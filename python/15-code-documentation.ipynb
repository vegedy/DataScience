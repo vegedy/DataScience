{
 "cells": [
  {
   "cell_type": "markdown",
   "id": "ae9f9437",
   "metadata": {},
   "source": [
    "# Blockkommentare\n",
    "Blockkommentare gelten im Allgemeinen für den nachfolgenden Code und sind auf der\n",
    "gleichen Ebene wie dieser eingerückt."
   ]
  },
  {
   "cell_type": "code",
   "execution_count": 1,
   "id": "512fcdbd",
   "metadata": {},
   "outputs": [],
   "source": [
    "# dieser Code führt folgende mathematischen Operationen durch\n",
    "# Addition\n",
    "# Subtraktion\n",
    "# Division"
   ]
  },
  {
   "cell_type": "markdown",
   "id": "3dc00849",
   "metadata": {},
   "source": [
    "# Inlinekommentare\n",
    "Hierbei handelt es sich um Kommentare über oder in derselben Zeile einer Anweisung.\n",
    "Inline-Kommentare sollten durch mindestens zwei Leerzeichen von der Anweisung\n",
    "getrennt sein und sollten mit einem #-Zeichen und einem einzelnen Leerzeichen beginnen."
   ]
  },
  {
   "cell_type": "code",
   "execution_count": 2,
   "id": "5d8fb21f",
   "metadata": {},
   "outputs": [],
   "source": [
    "# der folgende Code führt verschiedene mathematische Operationen durch\n",
    "add_1 = 4 + 3 # Addition\n",
    "sub_1 = 4 - 3 # Subtraktion\n",
    "div_1 = 4 / 3 # Division"
   ]
  },
  {
   "cell_type": "markdown",
   "id": "005a532a",
   "metadata": {},
   "source": [
    "# Dokumentationsstrings\n",
    "Diese Kommentare sind auch als Docstrings bekannt. Docstrings werden in einer weiteren\n",
    "Python Enhancement Proposal, der PEP 257, definiert (PEP 257 o. J.). Ein Docstring ist ein\n",
    "kommentierender Text, der sich über mehrere Zeilen erstrecken kann, vom Interpreter\n",
    "nicht gelesen wird, und der Dokumentation des Codes dient. Alle Klassen und Funktionen\n",
    "sollten mit einem docstring beginnen, welcher erklärt, was diese Klasse bzw. Funktion tut,\n",
    "wie sie zu verwenden ist und welche Argumente ggf. übergeben oder erzeugt werden."
   ]
  },
  {
   "cell_type": "code",
   "execution_count": 3,
   "id": "8d324bef",
   "metadata": {},
   "outputs": [],
   "source": [
    "def math_addition(self, number_1, number_2):\n",
    "    '''\n",
    "    mathematische Addition\n",
    "    number_1: erste Zahl\n",
    "    number_2: zweite Zahl\n",
    "    return: Addition der beiden Zahlen\n",
    "    '''\n",
    "    result = number_1 + number_2\n",
    "    return result"
   ]
  }
 ],
 "metadata": {
  "kernelspec": {
   "display_name": "base",
   "language": "python",
   "name": "python3"
  },
  "language_info": {
   "codemirror_mode": {
    "name": "ipython",
    "version": 3
   },
   "file_extension": ".py",
   "mimetype": "text/x-python",
   "name": "python",
   "nbconvert_exporter": "python",
   "pygments_lexer": "ipython3",
   "version": "3.13.5"
  }
 },
 "nbformat": 4,
 "nbformat_minor": 5
}
