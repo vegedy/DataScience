{
 "cells": [
  {
   "cell_type": "markdown",
   "id": "a8b3c20b",
   "metadata": {},
   "source": [
    "## Types"
   ]
  },
  {
   "cell_type": "code",
   "execution_count": 2,
   "id": "69e31e7b",
   "metadata": {},
   "outputs": [
    {
     "name": "stdout",
     "output_type": "stream",
     "text": [
      "<class 'bool'>\n",
      "1\n"
     ]
    }
   ],
   "source": [
    "# Abfragen nach Datenstruktur machen\n",
    "int_test_1 = isinstance(5, int)\n",
    "int_test_2 = isinstance(3.14, int)\n",
    "int_test_3 = isinstance(\"mystr\", int)\n",
    "print(type(int_test_1))\n",
    "\n",
    "# wie viele Variablen sind Integer-Variablen?\n",
    "print(sum([int_test_1, \\\n",
    "int_test_2, \\\n",
    "int_test_3]))"
   ]
  },
  {
   "cell_type": "markdown",
   "id": "36b21b48",
   "metadata": {},
   "source": [
    "## Strings"
   ]
  },
  {
   "cell_type": "code",
   "execution_count": 3,
   "id": "150e8daa",
   "metadata": {},
   "outputs": [
    {
     "data": {
      "text/plain": [
       "'u'"
      ]
     },
     "execution_count": 3,
     "metadata": {},
     "output_type": "execute_result"
    }
   ],
   "source": [
    "string_1 = \"Judäische Volksfront?! Quatsch!\"\n",
    "string_1[1]"
   ]
  },
  {
   "cell_type": "code",
   "execution_count": 4,
   "id": "14d39de2",
   "metadata": {},
   "outputs": [
    {
     "data": {
      "text/plain": [
       "'Volksfront?!'"
      ]
     },
     "execution_count": 4,
     "metadata": {},
     "output_type": "execute_result"
    }
   ],
   "source": [
    "string_1[10:22]"
   ]
  },
  {
   "cell_type": "code",
   "execution_count": 5,
   "id": "69e5b848",
   "metadata": {},
   "outputs": [
    {
     "data": {
      "text/plain": [
       "'Volksfront?! Quatsch!'"
      ]
     },
     "execution_count": 5,
     "metadata": {},
     "output_type": "execute_result"
    }
   ],
   "source": [
    "string_1[10:]"
   ]
  },
  {
   "cell_type": "code",
   "execution_count": 6,
   "id": "30daaa41",
   "metadata": {},
   "outputs": [
    {
     "data": {
      "text/plain": [
       "'Quatsch!'"
      ]
     },
     "execution_count": 6,
     "metadata": {},
     "output_type": "execute_result"
    }
   ],
   "source": [
    "string_1[-8:]"
   ]
  },
  {
   "cell_type": "code",
   "execution_count": 7,
   "id": "b581863e",
   "metadata": {},
   "outputs": [
    {
     "data": {
      "text/plain": [
       "'Judäische'"
      ]
     },
     "execution_count": 7,
     "metadata": {},
     "output_type": "execute_result"
    }
   ],
   "source": [
    "string_1[:9]"
   ]
  },
  {
   "cell_type": "code",
   "execution_count": 8,
   "id": "37352432",
   "metadata": {},
   "outputs": [
    {
     "data": {
      "text/plain": [
       "'Judäische Volksfront?!'"
      ]
     },
     "execution_count": 8,
     "metadata": {},
     "output_type": "execute_result"
    }
   ],
   "source": [
    "string_1[:-9]"
   ]
  },
  {
   "cell_type": "code",
   "execution_count": 9,
   "id": "5ccadc74",
   "metadata": {},
   "outputs": [],
   "source": [
    "#string_1[1] = \"a\"  # TypeError: 'str' object does not support item assignment"
   ]
  },
  {
   "cell_type": "code",
   "execution_count": 10,
   "id": "8f552232",
   "metadata": {},
   "outputs": [
    {
     "data": {
      "text/plain": [
       "2307632265040"
      ]
     },
     "execution_count": 10,
     "metadata": {},
     "output_type": "execute_result"
    }
   ],
   "source": [
    "# ID des String-Objektes abfragen\n",
    "id(string_1)"
   ]
  },
  {
   "cell_type": "code",
   "execution_count": 11,
   "id": "4715849f",
   "metadata": {},
   "outputs": [
    {
     "data": {
      "text/plain": [
       "'Judäische Volksfront?! Quatsch! Wir sind die Volksfront von Judäa!'"
      ]
     },
     "execution_count": 11,
     "metadata": {},
     "output_type": "execute_result"
    }
   ],
   "source": [
    "string_1 += \" Wir sind die Volksfront von Judäa!\"\n",
    "string_1"
   ]
  },
  {
   "cell_type": "code",
   "execution_count": 12,
   "id": "3c6d8713",
   "metadata": {},
   "outputs": [
    {
     "data": {
      "text/plain": [
       "2307629935632"
      ]
     },
     "execution_count": 12,
     "metadata": {},
     "output_type": "execute_result"
    }
   ],
   "source": [
    "# ID des String-Objektes abfragen\n",
    "id(string_1)"
   ]
  },
  {
   "cell_type": "code",
   "execution_count": 13,
   "id": "42503a5c",
   "metadata": {},
   "outputs": [
    {
     "data": {
      "text/plain": [
       "'Judäische Volksfront?! Quatsch! Wir sind die Volksfront von Judäa! - SPALTER!!!'"
      ]
     },
     "execution_count": 13,
     "metadata": {},
     "output_type": "execute_result"
    }
   ],
   "source": [
    "string_2 = \" - \".join([string_1, \"SPALTER!!!\"])\n",
    "string_2"
   ]
  },
  {
   "cell_type": "code",
   "execution_count": 14,
   "id": "bba43af9",
   "metadata": {},
   "outputs": [
    {
     "data": {
      "text/plain": [
       "66"
      ]
     },
     "execution_count": 14,
     "metadata": {},
     "output_type": "execute_result"
    }
   ],
   "source": [
    "# Länge eines Strings ausgeben lassen\n",
    "len(string_1)"
   ]
  },
  {
   "cell_type": "code",
   "execution_count": 15,
   "id": "de11abfa",
   "metadata": {},
   "outputs": [
    {
     "data": {
      "text/plain": [
       "2"
      ]
     },
     "execution_count": 15,
     "metadata": {},
     "output_type": "execute_result"
    }
   ],
   "source": [
    "# Elemente zählen\n",
    "string_1.count(\"ä\")"
   ]
  },
  {
   "cell_type": "code",
   "execution_count": 16,
   "id": "73a59815",
   "metadata": {},
   "outputs": [
    {
     "data": {
      "text/plain": [
       "True"
      ]
     },
     "execution_count": 16,
     "metadata": {},
     "output_type": "execute_result"
    }
   ],
   "source": [
    "# überprüfen, ob eine Zeichenfolge in einem String \\\n",
    "# enthalten ist\n",
    "\"Quatsch\" in string_1"
   ]
  },
  {
   "cell_type": "code",
   "execution_count": 17,
   "id": "f6f0906f",
   "metadata": {},
   "outputs": [
    {
     "data": {
      "text/plain": [
       "True"
      ]
     },
     "execution_count": 17,
     "metadata": {},
     "output_type": "execute_result"
    }
   ],
   "source": [
    "# überprüfen, ob eine Zeichenfolge in einem String \\\n",
    "# nicht enthalten ist\n",
    "\"Messias\" not in string_1"
   ]
  },
  {
   "cell_type": "code",
   "execution_count": 18,
   "id": "533cb414",
   "metadata": {},
   "outputs": [
    {
     "data": {
      "text/plain": [
       "69"
      ]
     },
     "execution_count": 18,
     "metadata": {},
     "output_type": "execute_result"
    }
   ],
   "source": [
    "# einen Substring in einem String finden\n",
    "string_2.find(\"SPALTER\")"
   ]
  },
  {
   "cell_type": "code",
   "execution_count": 19,
   "id": "b6b0279e",
   "metadata": {},
   "outputs": [
    {
     "data": {
      "text/plain": [
       "'SPALTER!!!'"
      ]
     },
     "execution_count": 19,
     "metadata": {},
     "output_type": "execute_result"
    }
   ],
   "source": [
    "# find()-Funktion als Hilfsfunktion beim Slicing\n",
    "string_2[string_2.find(\"SPALTER\"):]"
   ]
  },
  {
   "cell_type": "code",
   "execution_count": 20,
   "id": "253c1c5c",
   "metadata": {},
   "outputs": [
    {
     "data": {
      "text/plain": [
       "-1"
      ]
     },
     "execution_count": 20,
     "metadata": {},
     "output_type": "execute_result"
    }
   ],
   "source": [
    "# die find()-Funktion ist case-sensitive\n",
    "string_2.find(\"spalter\")"
   ]
  },
  {
   "cell_type": "code",
   "execution_count": 21,
   "id": "472bb8a6",
   "metadata": {},
   "outputs": [
    {
     "data": {
      "text/plain": [
       "'Judaeische Volksfront?! Quatsch! Wir sind die Volksfront von Judaea!'"
      ]
     },
     "execution_count": 21,
     "metadata": {},
     "output_type": "execute_result"
    }
   ],
   "source": [
    "# Zeichen innerhalb des Strings austauschen\n",
    "string_1.replace(\"ä\", \"ae\")"
   ]
  },
  {
   "cell_type": "code",
   "execution_count": 25,
   "id": "1a8f5b55",
   "metadata": {},
   "outputs": [
    {
     "data": {
      "text/plain": [
       "['Judäische Volksfront?', ' Quatsch', ' Wir sind die Volksfront von Judäa', '']"
      ]
     },
     "execution_count": 25,
     "metadata": {},
     "output_type": "execute_result"
    }
   ],
   "source": [
    "# einen String in mehere Elemente aufspalten\n",
    "string_1.split(\"!\")"
   ]
  },
  {
   "cell_type": "code",
   "execution_count": 26,
   "id": "408b98d8",
   "metadata": {},
   "outputs": [
    {
     "data": {
      "text/plain": [
       "'Quatsch'"
      ]
     },
     "execution_count": 26,
     "metadata": {},
     "output_type": "execute_result"
    }
   ],
   "source": [
    "# Leerzeichen am Anfang und Ende eines Strings entfernen\n",
    "\" Quatsch\".strip()"
   ]
  },
  {
   "cell_type": "code",
   "execution_count": 27,
   "id": "4ea6c0a7",
   "metadata": {},
   "outputs": [
    {
     "name": "stdout",
     "output_type": "stream",
     "text": [
      "1. Zeichen: J, \n",
      "2. Zeichen: u\n"
     ]
    }
   ],
   "source": [
    "# einen String mit Zeilenumbruch dynamisch generieren\n",
    "print(\"1. Zeichen: {}, \\n2. Zeichen: {}\".format(string_1[0], \\\n",
    "string_1[1]))"
   ]
  }
 ],
 "metadata": {
  "kernelspec": {
   "display_name": "Python 3",
   "language": "python",
   "name": "python3"
  },
  "language_info": {
   "codemirror_mode": {
    "name": "ipython",
    "version": 3
   },
   "file_extension": ".py",
   "mimetype": "text/x-python",
   "name": "python",
   "nbconvert_exporter": "python",
   "pygments_lexer": "ipython3",
   "version": "3.11.4"
  }
 },
 "nbformat": 4,
 "nbformat_minor": 5
}
