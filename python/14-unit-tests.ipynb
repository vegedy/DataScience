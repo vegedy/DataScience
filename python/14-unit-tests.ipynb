{
 "cells": [
  {
   "cell_type": "markdown",
   "id": "a2c1fd3d",
   "metadata": {},
   "source": [
    "# Unit-Test\n",
    "Dieser Test prüft die Funktionalität des Programms und hilft dabei, Fehler zu isolieren, um diese schneller zu beheben."
   ]
  },
  {
   "cell_type": "code",
   "execution_count": 1,
   "id": "4bf17915",
   "metadata": {},
   "outputs": [
    {
     "name": "stdout",
     "output_type": "stream",
     "text": [
      "3 channel Terms of Service accepted\n",
      "Retrieving notices: done\n",
      "\n",
      "Note: you may need to restart the kernel to use updated packages.\n"
     ]
    },
    {
     "name": "stderr",
     "output_type": "stream",
     "text": [
      "\n",
      "CondaValueError: too few arguments, must supply one of command line packages, --file or --revision\n",
      "\n"
     ]
    }
   ],
   "source": [
    "%conda install -c unittest -y"
   ]
  },
  {
   "cell_type": "code",
   "execution_count": 2,
   "id": "057f0bed",
   "metadata": {},
   "outputs": [],
   "source": [
    "# my_functions.py\n",
    "# Additionsfunktion definieren\n",
    "def math_addition(number_1, number_2):\n",
    "    '''\n",
    "    Mathematische Addition\n",
    "    number_1: Erste Zahl\n",
    "    number_2: Zweite Zahl\n",
    "    return: Addition der beiden Zahlen\n",
    "    '''\n",
    "    result = number_1 + number_2\n",
    "    return result\n",
    "\n",
    "# Divisionsfunktion definieren\n",
    "def math_division(number_1, number_2):\n",
    "    '''\n",
    "    Mathematische Division\n",
    "    number_1: Erste Zahl\n",
    "    number_2: Zweite Zahl\n",
    "    return: Subtraktion erste Zahl minus zweite Zahl\n",
    "    '''\n",
    "    # Division durch 0 abfangen\n",
    "    if number_2 == 0:\n",
    "        # in diesem Fall einen ValueError hervorrufen\n",
    "        raise ValueError('you cannot divide by 0')\n",
    "\n",
    "    result = number_1 / number_2\n",
    "    return result"
   ]
  },
  {
   "cell_type": "code",
   "execution_count": null,
   "id": "ea2b2e86",
   "metadata": {},
   "outputs": [
    {
     "name": "stderr",
     "output_type": "stream",
     "text": [
      "usage: ipykernel_launcher.py [-h] [-v] [-q] [--locals] [--durations N] [-f]\n",
      "                             [-c] [-b] [-k TESTNAMEPATTERNS]\n",
      "                             [tests ...]\n",
      "ipykernel_launcher.py: error: argument -f/--failfast: ignored explicit argument 'c:\\\\Users\\\\bzenz\\\\AppData\\\\Roaming\\\\jupyter\\\\runtime\\\\kernel-v3f353055b9acf04a73b8fb23065df198c7cbaa5c3.json'\n"
     ]
    },
    {
     "ename": "SystemExit",
     "evalue": "2",
     "output_type": "error",
     "traceback": [
      "An exception has occurred, use %tb to see the full traceback.\n",
      "\u001b[31mSystemExit\u001b[39m\u001b[31m:\u001b[39m 2\n"
     ]
    }
   ],
   "source": [
    "# my_functions_test.py\n",
    "# unittest-Modul und zu testendes Skript laden\n",
    "import unittest\n",
    "#import my_functions as mf\n",
    "# eine Testklasse definieren, die die TestCases von unittest erbt\n",
    "class UnitTestMathOperations(unittest.TestCase):\n",
    "    # eine Testfunktion für math_addition definieren\n",
    "    def test_math_addition(self):\n",
    "        '''\n",
    "        Mathematische Addition testen\n",
    "        '''\n",
    "        result = math_addition(2, 2)\n",
    "        self.assertEqual(result, 4, \"Die Addition sollte 4 ergeben\")\n",
    "\n",
    "    # eine Testfunktion für math_division definieren\n",
    "    def test_math_division(self):\n",
    "        '''\n",
    "        Mathematische Division testen\n",
    "        '''\n",
    "        # einfache Division\n",
    "        result = math_division(6, 2)\n",
    "        self.assertEqual(result, 3, \"Die Division sollte 3 ergeben\")\n",
    "\n",
    "        # einen exception-Test mit Kontext durchführen:\n",
    "        # Wir erwarten einen ValueError, wenn wir\n",
    "        # eine 0 als die Zahl übergeben, durch die\n",
    "        # geteilt werden soll\n",
    "        with self.assertRaises(ValueError):\n",
    "            math_division(10, 0)\n",
    "\n",
    "# dieses Skript im unittest-Kontext ausführen\n",
    "if __name__ == '__main__':\n",
    "    unittest.main()"
   ]
  },
  {
   "cell_type": "markdown",
   "id": "66cbbfd6",
   "metadata": {},
   "source": [
    "# Integrationstest\n",
    "Dieser Test überprüft viele Funktionalitäten des Programms und wie sie miteinander agieren. Weiterhin hilft er dabei, möglichst viele fehlerhafte Funktionalitäten im Programm zu finden, indem das Programm als Ganzes getestet wird. Im Allgemeinen benötigen diese Tests mehr Zeit als die Unit-Tests."
   ]
  }
 ],
 "metadata": {
  "kernelspec": {
   "display_name": "base",
   "language": "python",
   "name": "python3"
  },
  "language_info": {
   "codemirror_mode": {
    "name": "ipython",
    "version": 3
   },
   "file_extension": ".py",
   "mimetype": "text/x-python",
   "name": "python",
   "nbconvert_exporter": "python",
   "pygments_lexer": "ipython3",
   "version": "3.13.5"
  }
 },
 "nbformat": 4,
 "nbformat_minor": 5
}
