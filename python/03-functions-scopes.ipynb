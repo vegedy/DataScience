{
 "cells": [
  {
   "cell_type": "markdown",
   "id": "63b854f6",
   "metadata": {},
   "source": [
    "# Functions"
   ]
  },
  {
   "cell_type": "code",
   "execution_count": 1,
   "id": "7544a732",
   "metadata": {},
   "outputs": [
    {
     "data": {
      "text/plain": [
       "81"
      ]
     },
     "execution_count": 1,
     "metadata": {},
     "output_type": "execute_result"
    }
   ],
   "source": [
    "# eine Funktion definieren\n",
    "def what_a_function(x, y):\n",
    "    \"\"\"\n",
    "    This function sums up its two inputs and\n",
    "    returns the quadratic of this sum\n",
    "    input arguments:\n",
    "    - x: numeric\n",
    "    - y: numeric\n",
    "    42\n",
    "    dependencies:\n",
    "    - none\n",
    "    output arguments:\n",
    "    The quadratic of the sum of inputs\n",
    "    \"\"\"\n",
    "    # add the two input arguments\n",
    "    z = x + y\n",
    "    # square this sum\n",
    "    out = z**2\n",
    "    # return the results from the function\n",
    "    return(out)\n",
    "\n",
    "what_a_function(2, 7)"
   ]
  },
  {
   "cell_type": "code",
   "execution_count": 2,
   "id": "3df04ef6",
   "metadata": {},
   "outputs": [
    {
     "name": "stdout",
     "output_type": "stream",
     "text": [
      "__main__\n"
     ]
    }
   ],
   "source": [
    "print(__name__)"
   ]
  },
  {
   "cell_type": "code",
   "execution_count": 3,
   "id": "97c51a78",
   "metadata": {},
   "outputs": [
    {
     "data": {
      "text/plain": [
       "2025"
      ]
     },
     "execution_count": 3,
     "metadata": {},
     "output_type": "execute_result"
    }
   ],
   "source": [
    "# eine Funktion mit Standardparametern definieren\n",
    "def what_a_function(x, y=42):\n",
    "    z = x + y\n",
    "    out = z**2\n",
    "    return(out)\n",
    "\n",
    "# Die Funktion mit Standardparameter ausführen\n",
    "what_a_function(x=3)"
   ]
  },
  {
   "cell_type": "code",
   "execution_count": 4,
   "id": "1a7ae67b",
   "metadata": {},
   "outputs": [
    {
     "data": {
      "text/plain": [
       "100"
      ]
     },
     "execution_count": 4,
     "metadata": {},
     "output_type": "execute_result"
    }
   ],
   "source": [
    "# Standardparameter der Funktion überschreiben\n",
    "what_a_function(x=3, y=7)"
   ]
  },
  {
   "cell_type": "code",
   "execution_count": 5,
   "id": "02546780",
   "metadata": {},
   "outputs": [
    {
     "name": "stdout",
     "output_type": "stream",
     "text": [
      "16\n"
     ]
    }
   ],
   "source": [
    "# eine Funktion mit unbestimmter Anzahl von Funktions-\n",
    "# argumenten definieren\n",
    "def some_of_unknowns(*args):\n",
    "    out = sum(args)\n",
    "    print(out)\n",
    "\n",
    "some_of_unknowns(7, 3, 6)"
   ]
  },
  {
   "cell_type": "code",
   "execution_count": 6,
   "id": "11d0edc7",
   "metadata": {},
   "outputs": [
    {
     "data": {
      "text/plain": [
       "84"
      ]
     },
     "execution_count": 6,
     "metadata": {},
     "output_type": "execute_result"
    }
   ],
   "source": [
    "# eine Funktion mit unbestimmter Anzahl von Elementen\n",
    "# im Dictionary-Stil definieren\n",
    "def some_of_unknowns(**args):\n",
    "    out = sum(args.values())\n",
    "    return(out)\n",
    "\n",
    "# Funktion mit 5 Funktionsargumenten ausführen\n",
    "some_of_unknowns(first=3, second=7, third=9, \\\n",
    "fourth=42, fifth=23)"
   ]
  },
  {
   "cell_type": "code",
   "execution_count": 7,
   "id": "83704918",
   "metadata": {},
   "outputs": [
    {
     "name": "stdout",
     "output_type": "stream",
     "text": [
      "45\n"
     ]
    }
   ],
   "source": [
    "# lokale Variablen an die ausführende Instanz übergeben\n",
    "def what_a_function(x=3, y=42):\n",
    "    global z_global\n",
    "    z_global = x + y\n",
    "    out = z_global**2\n",
    "    return(out)\n",
    "\n",
    "# lokale Variable im übergeordneten Scope aufrufen\n",
    "what_a_function()\n",
    "print(z_global)"
   ]
  },
  {
   "cell_type": "code",
   "execution_count": 8,
   "id": "e4d6546c",
   "metadata": {},
   "outputs": [
    {
     "data": {
      "text/plain": [
       "40"
      ]
     },
     "execution_count": 8,
     "metadata": {},
     "output_type": "execute_result"
    }
   ],
   "source": [
    "# eine globale Variable erzeugen\n",
    "todaysDay_global = 5\n",
    "# eine Funktion definieren, die den Tag\n",
    "# in n Wochen berechnet\n",
    "def n_weeks_later(n_weeks, todaysDay_local=5):\n",
    "    out = todaysDay_local + (n_weeks * 7)\n",
    "    return(out)\n",
    "\n",
    "# Funktion ausführen\n",
    "n_weeks_later(5, todaysDay_local=todaysDay_global)"
   ]
  },
  {
   "cell_type": "code",
   "execution_count": 9,
   "id": "cf4e4edb",
   "metadata": {},
   "outputs": [
    {
     "data": {
      "text/plain": [
       "'Volksfront von Judäa'"
      ]
     },
     "execution_count": 9,
     "metadata": {},
     "output_type": "execute_result"
    }
   ],
   "source": [
    "# äußere Funktion definieren\n",
    "def outer_func():\n",
    "    # eine lokale Variable im Scope outer_func definieren\n",
    "    x = \"Judäische Volksfront\"\n",
    "    # inner Funktion definieren\n",
    "    def inner_func():\n",
    "        # Variable im übergeordneten Scope überschreiben\n",
    "        nonlocal x\n",
    "        x = \"Volksfront von Judäa\"\n",
    "        \n",
    "    # innere Funktion innerhalb der äußeren Funktion aufrufen\n",
    "    inner_func()\n",
    "    return(x)\n",
    "\n",
    "# äußere und darin enthaltene innere Funktion ausführen\n",
    "outer_func()"
   ]
  },
  {
   "cell_type": "code",
   "execution_count": 12,
   "id": "9313d8a5",
   "metadata": {},
   "outputs": [
    {
     "data": {
      "text/plain": [
       "<function __main__.<lambda>(x, y)>"
      ]
     },
     "execution_count": 12,
     "metadata": {},
     "output_type": "execute_result"
    }
   ],
   "source": [
    "# reguläre Funktionsdefinition\n",
    "def sum_of_product(x, y):\n",
    "    return(sum(x*y))\n",
    "\n",
    "# Lambda-Funktion\n",
    "lambda x, y: sum(x*y)"
   ]
  }
 ],
 "metadata": {
  "kernelspec": {
   "display_name": "Python 3",
   "language": "python",
   "name": "python3"
  },
  "language_info": {
   "codemirror_mode": {
    "name": "ipython",
    "version": 3
   },
   "file_extension": ".py",
   "mimetype": "text/x-python",
   "name": "python",
   "nbconvert_exporter": "python",
   "pygments_lexer": "ipython3",
   "version": "3.11.4"
  }
 },
 "nbformat": 4,
 "nbformat_minor": 5
}
