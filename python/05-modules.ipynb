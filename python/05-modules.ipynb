{
 "cells": [
  {
   "cell_type": "markdown",
   "id": "b4ad631d",
   "metadata": {},
   "source": [
    "## Pip"
   ]
  },
  {
   "cell_type": "code",
   "execution_count": null,
   "id": "d56582a4",
   "metadata": {},
   "outputs": [],
   "source": [
    "python -m venv <meine_virtuelle_Umgebung>"
   ]
  },
  {
   "cell_type": "code",
   "execution_count": null,
   "id": "be305490",
   "metadata": {},
   "outputs": [],
   "source": [
    "# Aktivieren (abhängig vom Betriebssystem/Shell)\n",
    "# Linux / macOS:\n",
    "!source <meine_virtuelle_Umgebung>/bin/activate\n",
    "# Windows (PowerShell):\n",
    "!.\\<meine_virtuelle_Umgebung>\\Scripts\\Activate.ps1"
   ]
  },
  {
   "cell_type": "code",
   "execution_count": null,
   "id": "283648ae",
   "metadata": {},
   "outputs": [],
   "source": [
    "!pip install numpy"
   ]
  },
  {
   "cell_type": "code",
   "execution_count": null,
   "id": "fde9f07c",
   "metadata": {},
   "outputs": [],
   "source": [
    "# Abhängigkeiten aus requirements-Datei installieren\n",
    "!pip install -r <meine_Abhaengigkeiten>.txt"
   ]
  },
  {
   "cell_type": "markdown",
   "id": "7bb024d8",
   "metadata": {},
   "source": [
    "## Conda"
   ]
  },
  {
   "cell_type": "code",
   "execution_count": null,
   "id": "ebfc9daa",
   "metadata": {},
   "outputs": [],
   "source": [
    "!conda create --name <meine_virtuelle_Umgebung>"
   ]
  },
  {
   "cell_type": "code",
   "execution_count": null,
   "id": "9e6021d9",
   "metadata": {},
   "outputs": [],
   "source": [
    "!conda activate <meine_virtuelle_Umgebung>"
   ]
  },
  {
   "cell_type": "code",
   "execution_count": null,
   "id": "c4dd4d86",
   "metadata": {},
   "outputs": [],
   "source": [
    "!conda install numpy"
   ]
  },
  {
   "cell_type": "code",
   "execution_count": null,
   "id": "57624532",
   "metadata": {},
   "outputs": [],
   "source": [
    "!conda env create -f <meine_Abhaengigkeiten>.yml"
   ]
  }
 ],
 "metadata": {
  "kernelspec": {
   "display_name": "Python 3",
   "language": "python",
   "name": "python3"
  },
  "language_info": {
   "codemirror_mode": {
    "name": "ipython",
    "version": 3
   },
   "file_extension": ".py",
   "mimetype": "text/x-python",
   "name": "python",
   "nbconvert_exporter": "python",
   "pygments_lexer": "ipython3",
   "version": "3.11.4"
  }
 },
 "nbformat": 4,
 "nbformat_minor": 5
}
