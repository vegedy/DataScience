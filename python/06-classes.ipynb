{
 "cells": [
  {
   "cell_type": "markdown",
   "id": "8df4882b",
   "metadata": {},
   "source": [
    "## Class namespaces"
   ]
  },
  {
   "cell_type": "code",
   "execution_count": 1,
   "id": "f547c488",
   "metadata": {},
   "outputs": [
    {
     "name": "stdout",
     "output_type": "stream",
     "text": [
      "Car Wheels: 4\n",
      "Bike Wheels: 2\n",
      "Car Dict: {}\n",
      "Bike Dict: {'n_wheels': 2}\n"
     ]
    }
   ],
   "source": [
    "class Vehicle():\n",
    "    n_wheels = 4\n",
    "    current_speed = 0.0\n",
    "\n",
    "car = Vehicle()\n",
    "bike = Vehicle()\n",
    "bike.n_wheels = 2\n",
    "\n",
    "print(\"Car Wheels: \" + str(car.n_wheels))\n",
    "print(\"Bike Wheels: \" + str(bike.n_wheels))\n",
    "\n",
    "# Namespaces betrachten\n",
    "print(\"Car Dict: \" + str(car.__dict__))\n",
    "print(\"Bike Dict: \" + str(bike.__dict__))"
   ]
  },
  {
   "cell_type": "code",
   "execution_count": null,
   "id": "726f5ec6",
   "metadata": {},
   "outputs": [
    {
     "name": "stdout",
     "output_type": "stream",
     "text": [
      "Car Wheels: 2\n",
      "Bike Wheels: 2\n"
     ]
    }
   ],
   "source": [
    "Vehicle.n_wheels = 2 # alle Fahrzeuge haben jetzt 2 Räder\n",
    "print(\"Car Wheels: \" + str(car.n_wheels))\n",
    "print(\"Bike Wheels: \" + str(bike.n_wheels))\n",
    "Vehicle.n_wheels = 4 # zurücksetzen"
   ]
  },
  {
   "cell_type": "code",
   "execution_count": 4,
   "id": "172731bd",
   "metadata": {},
   "outputs": [
    {
     "name": "stdout",
     "output_type": "stream",
     "text": [
      "Car Wheels: 4\n",
      "Bike Wheels: 2\n",
      "Car Dict: {'n_wheels': 4, 'current_speed': 0.0}\n",
      "Bike Dict: {'n_wheels': 2, 'current_speed': 0.0}\n"
     ]
    }
   ],
   "source": [
    "class Vehicle():\n",
    "    def __init__(self, n_wheels=4, current_speed=0.0):\n",
    "        self.n_wheels = n_wheels\n",
    "        self.current_speed = current_speed\n",
    "\n",
    "# Objekte erzeugen\n",
    "car = Vehicle()\n",
    "bike = Vehicle(n_wheels=2)\n",
    "\n",
    "print(\"Car Wheels: \" + str(car.n_wheels))\n",
    "print(\"Bike Wheels: \" + str(bike.n_wheels))\n",
    "\n",
    "# Namespaces betrachten\n",
    "print(\"Car Dict: \" + str(car.__dict__))\n",
    "print(\"Bike Dict: \" + str(bike.__dict__))"
   ]
  },
  {
   "cell_type": "markdown",
   "id": "b4c933a1",
   "metadata": {},
   "source": [
    "## Class decorators"
   ]
  },
  {
   "cell_type": "code",
   "execution_count": 8,
   "id": "654d3af0",
   "metadata": {},
   "outputs": [],
   "source": [
    "# PKW-Klasse erneut definieren\n",
    "class Car():\n",
    "    def __init__(self, color, use_type):\n",
    "        self.color = color\n",
    "        self.use_type = use_type\n",
    "    \n",
    "    @property\n",
    "    def description(self):\n",
    "        return self.color + \" \" + self.use_type"
   ]
  },
  {
   "cell_type": "code",
   "execution_count": 9,
   "id": "efff932c",
   "metadata": {},
   "outputs": [
    {
     "name": "stdout",
     "output_type": "stream",
     "text": [
      "Color: blue\n",
      "Use Type: family car\n",
      "Description: blue family car\n"
     ]
    }
   ],
   "source": [
    "# erneut ein PKW-Objekt erzeugen\n",
    "my_car = Car(\"blue\", \"family car\")\n",
    "# Attribute des Objekts anzeigen und Methode ausführen\n",
    "print(\"Color:\", my_car.color)\n",
    "print(\"Use Type:\", my_car.use_type)\n",
    "print(\"Description:\", my_car.description)"
   ]
  },
  {
   "cell_type": "code",
   "execution_count": 11,
   "id": "cdae453d",
   "metadata": {},
   "outputs": [
    {
     "name": "stdout",
     "output_type": "stream",
     "text": [
      "Color: pink\n",
      "Use Type: family car\n",
      "Description: pink family car\n"
     ]
    }
   ],
   "source": [
    "# das Farb-Attribut ändern\n",
    "my_car.color = \"pink\"\n",
    "# Attribute des Objekts anzeigen und Methode ausführen\n",
    "print(\"Color:\", my_car.color)\n",
    "print(\"Use Type:\", my_car.use_type)\n",
    "print(\"Description:\", my_car.description)"
   ]
  },
  {
   "cell_type": "code",
   "execution_count": 13,
   "id": "aab51d44",
   "metadata": {},
   "outputs": [],
   "source": [
    "# Versuch, das zusammengesetzte Attribut zu ändern\n",
    "#my_car.description = \"ocher van\"\n",
    "# AttributeError: property 'description' of 'Car' object has no setter"
   ]
  }
 ],
 "metadata": {
  "kernelspec": {
   "display_name": "Python 3",
   "language": "python",
   "name": "python3"
  },
  "language_info": {
   "codemirror_mode": {
    "name": "ipython",
    "version": 3
   },
   "file_extension": ".py",
   "mimetype": "text/x-python",
   "name": "python",
   "nbconvert_exporter": "python",
   "pygments_lexer": "ipython3",
   "version": "3.11.4"
  }
 },
 "nbformat": 4,
 "nbformat_minor": 5
}
