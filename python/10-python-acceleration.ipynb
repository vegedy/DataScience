{
 "cells": [
  {
   "cell_type": "markdown",
   "id": "2e57553d",
   "metadata": {},
   "source": [
    "# Beschleunigung von Python\n",
    "- Cython ist eine Programmiersprache, die entwickelt wurde, um C-ähnliche Leistung mit\n",
    "Code zu erzielen, der größtenteils in Python mit optionaler zusätzlicher C-inspirierter\n",
    "Syntax geschrieben ist.\n",
    "- PyPy wird mit der Sprache RPython gebaut, die als statisch typisierte Sprache den\n",
    "Python-Code in effizienten Code kompiliert.\n",
    "- Numba ist ein Open-Source-JIT-Compiler, der eine Teilmenge von Python- und NumPy-\n",
    "Code während der Laufzeit in schnellen Maschinencode übersetzt."
   ]
  },
  {
   "cell_type": "code",
   "execution_count": null,
   "id": "db57fbfd",
   "metadata": {},
   "outputs": [],
   "source": [
    "from numba import jit\n",
    "from time import process_time\n",
    "import numpy as np"
   ]
  },
  {
   "cell_type": "code",
   "execution_count": 2,
   "id": "86a6c915",
   "metadata": {},
   "outputs": [],
   "source": [
    "# Rechenintensive Funktion definieren\n",
    "def sum2dimensional(np_array):\n",
    "    array_rows, array_columns = np_array.shape\n",
    "    result = 0.0\n",
    "    for i in range(array_rows):\n",
    "        for j in range(array_columns):\n",
    "            result += np_array[i,j]\n",
    "    return result"
   ]
  },
  {
   "cell_type": "code",
   "execution_count": 3,
   "id": "4ea61a5a",
   "metadata": {},
   "outputs": [
    {
     "name": "stdout",
     "output_type": "stream",
     "text": [
      "4999999950000000.0\n",
      "12.921875\n"
     ]
    }
   ],
   "source": [
    "# Startzeit der Berechnung aufzeichnen\n",
    "start_time = process_time()\n",
    "\n",
    "# Berechnung durchführen\n",
    "np_array = np.arange(100000000).reshape(10000, 10000)\n",
    "\n",
    "# Ergebnis der Berechnung ausgeben\n",
    "print(sum2dimensional(np_array))\n",
    "\n",
    "# Endzeit der Berechnung aufzeichnen\n",
    "end_time = process_time()\n",
    "\n",
    "# Differenz aus Start- und Endzeit berechnen\n",
    "print(end_time - start_time)"
   ]
  },
  {
   "cell_type": "code",
   "execution_count": 4,
   "id": "4dede725",
   "metadata": {},
   "outputs": [],
   "source": [
    "# Dekorator verwenden, um anzugeben, ob der Code als Maschinencode kompiliert werden soll\n",
    "@jit(nopython=True)\n",
    "def sum2dimensional(np_array):\n",
    "    array_rows, array_columns = np_array.shape\n",
    "    result = 0.0\n",
    "    for i in range(array_rows):\n",
    "        for j in range(array_columns):\n",
    "            result += np_array[i,j]\n",
    "    return result"
   ]
  },
  {
   "cell_type": "code",
   "execution_count": 5,
   "id": "d48a41b1",
   "metadata": {},
   "outputs": [
    {
     "name": "stdout",
     "output_type": "stream",
     "text": [
      "4999999950000000.0\n",
      "0.390625\n"
     ]
    }
   ],
   "source": [
    "# Startzeit der Berechnung aufzeichnen\n",
    "start_time = process_time()\n",
    "\n",
    "# Berechnung durchführen\n",
    "np_array = np.arange(100000000).reshape(10000, 10000)\n",
    "\n",
    "# Ergebnis der Berechnung ausgeben\n",
    "print(sum2dimensional(np_array))\n",
    "\n",
    "# Endzeit der Berechnung aufzeichnen\n",
    "end_time = process_time()\n",
    "\n",
    "# Differenz aus Start- und Endzeit berechnen\n",
    "print(end_time - start_time)"
   ]
  }
 ],
 "metadata": {
  "kernelspec": {
   "display_name": "Python 3",
   "language": "python",
   "name": "python3"
  },
  "language_info": {
   "codemirror_mode": {
    "name": "ipython",
    "version": 3
   },
   "file_extension": ".py",
   "mimetype": "text/x-python",
   "name": "python",
   "nbconvert_exporter": "python",
   "pygments_lexer": "ipython3",
   "version": "3.11.4"
  }
 },
 "nbformat": 4,
 "nbformat_minor": 5
}
