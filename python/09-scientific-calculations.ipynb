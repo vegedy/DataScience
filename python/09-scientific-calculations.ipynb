{
 "cells": [
  {
   "cell_type": "markdown",
   "id": "a3fc57ff",
   "metadata": {},
   "source": [
    "# Numpy"
   ]
  },
  {
   "cell_type": "code",
   "execution_count": 1,
   "id": "b4f000d0",
   "metadata": {},
   "outputs": [
    {
     "name": "stdout",
     "output_type": "stream",
     "text": [
      "1.26.4\n"
     ]
    }
   ],
   "source": [
    "import numpy as np\n",
    "print(np.__version__)"
   ]
  },
  {
   "cell_type": "code",
   "execution_count": 2,
   "id": "fa46708a",
   "metadata": {},
   "outputs": [
    {
     "name": "stdout",
     "output_type": "stream",
     "text": [
      "[1 2 3 4 5]\n"
     ]
    },
    {
     "data": {
      "text/plain": [
       "True"
      ]
     },
     "execution_count": 2,
     "metadata": {},
     "output_type": "execute_result"
    }
   ],
   "source": [
    "my_list = [1, 2, 3, 4, 5] # eine einfache Python-Liste, Tuple wäre z.B. auch möglich\n",
    "my_array = np.array(my_list)\n",
    "print(my_array)\n",
    "isinstance(my_array, np.ndarray)"
   ]
  },
  {
   "cell_type": "code",
   "execution_count": 3,
   "id": "c7929fed",
   "metadata": {},
   "outputs": [
    {
     "data": {
      "text/plain": [
       "(5,)"
      ]
     },
     "execution_count": 3,
     "metadata": {},
     "output_type": "execute_result"
    }
   ],
   "source": [
    "my_array.shape"
   ]
  },
  {
   "cell_type": "code",
   "execution_count": 4,
   "id": "58a81ccf",
   "metadata": {},
   "outputs": [
    {
     "name": "stdout",
     "output_type": "stream",
     "text": [
      "[[1 2 3]\n",
      " [4 5 6]\n",
      " [7 8 9]]\n"
     ]
    },
    {
     "data": {
      "text/plain": [
       "(3, 3)"
      ]
     },
     "execution_count": 4,
     "metadata": {},
     "output_type": "execute_result"
    }
   ],
   "source": [
    "my_array_2 = np.array([[1,2,3], [4,5,6], [7,8,9]])\n",
    "print(my_array_2)\n",
    "my_array_2.shape"
   ]
  },
  {
   "cell_type": "code",
   "execution_count": 5,
   "id": "5c0277af",
   "metadata": {},
   "outputs": [
    {
     "name": "stdout",
     "output_type": "stream",
     "text": [
      "2\n",
      "9\n",
      "int32\n"
     ]
    }
   ],
   "source": [
    "# die Anzahl der Dimensionen des Arrays ausgeben\n",
    "print(my_array_2.ndim)\n",
    "\n",
    "# die Anzahl der Elemente im Array ausgeben\n",
    "print(my_array_2.size)\n",
    "\n",
    "# den Datentyp der im Array gespeicherten Werte ausgeben\n",
    "print(my_array_2.dtype)"
   ]
  },
  {
   "cell_type": "code",
   "execution_count": 6,
   "id": "ebff3f68",
   "metadata": {},
   "outputs": [
    {
     "name": "stdout",
     "output_type": "stream",
     "text": [
      "[['1' '2' '3']\n",
      " ['4' '5' '6']\n",
      " ['7' '8' 'neun']]\n"
     ]
    }
   ],
   "source": [
    "# Versuch, Datentypen innerhalb eines Arrays zu mischen\n",
    "my_array_3 = np.array([[1,2,3], [4,5,6], [7,8,\"neun\"]])\n",
    "print(my_array_3)"
   ]
  },
  {
   "cell_type": "code",
   "execution_count": 7,
   "id": "b50ba169",
   "metadata": {},
   "outputs": [
    {
     "name": "stdout",
     "output_type": "stream",
     "text": [
      "[ 1  2  3  4  5  6  7  8  9 10]\n",
      "(10,)\n"
     ]
    }
   ],
   "source": [
    "# einen Array aus einem Tupel erzeugen\n",
    "my_array_4 = np.array((1, 2, 3, 4, 5, 6, 7, 8, 9, 10))\n",
    "\n",
    "# den erzeugten Array inspizieren\n",
    "print(my_array_4)\n",
    "print(my_array_4.shape)"
   ]
  },
  {
   "cell_type": "code",
   "execution_count": 8,
   "id": "26e2effb",
   "metadata": {},
   "outputs": [
    {
     "name": "stdout",
     "output_type": "stream",
     "text": [
      "[[ 1  2]\n",
      " [ 3  4]\n",
      " [ 5  6]\n",
      " [ 7  8]\n",
      " [ 9 10]]\n"
     ]
    }
   ],
   "source": [
    "# den ein-dimensionalen Array in einen Array mit 5 Zeilen und 2 Spalten konvertieren\n",
    "my_array_5 = my_array_4.reshape(5, 2)\n",
    "\n",
    "# den neuen Array inspizieren\n",
    "print(my_array_5)"
   ]
  },
  {
   "cell_type": "code",
   "execution_count": 9,
   "id": "d8c68fc7",
   "metadata": {},
   "outputs": [
    {
     "name": "stdout",
     "output_type": "stream",
     "text": [
      "4\n",
      "<memory at 0x0000018DB4125BE0>\n"
     ]
    }
   ],
   "source": [
    "# den Speicherplatz in Bytes ausgeben, den ein Element des Arrays belegt\n",
    "print(my_array_5.itemsize)\n",
    "\n",
    "# die ID für den im RAM belegten Speicher ausgeben\n",
    "print(my_array_5.data)"
   ]
  },
  {
   "cell_type": "code",
   "execution_count": 10,
   "id": "d96a1197",
   "metadata": {},
   "outputs": [
    {
     "name": "stdout",
     "output_type": "stream",
     "text": [
      "[ 7  9 11 13 15]\n",
      "[-5 -5 -5 -5 -5]\n",
      "[ 6 14 24 36 50]\n",
      "[0.16666667 0.28571429 0.375      0.44444444 0.5       ]\n"
     ]
    }
   ],
   "source": [
    "arr_1 = np.array([1, 2, 3, 4, 5])\n",
    "arr_2 = np.array([6, 7, 8, 9, 10])\n",
    "\n",
    "print(arr_1 + arr_2)\n",
    "print(arr_1 - arr_2)\n",
    "print(arr_1 * arr_2)\n",
    "print(arr_1 / arr_2)"
   ]
  },
  {
   "cell_type": "code",
   "execution_count": 11,
   "id": "c599ecba",
   "metadata": {},
   "outputs": [
    {
     "name": "stdout",
     "output_type": "stream",
     "text": [
      "3.0\n",
      "8.0\n",
      "2.0\n",
      "1.4142135623730951\n"
     ]
    }
   ],
   "source": [
    "# arithmetisches Mittel\n",
    "print(np.mean(arr_1))\n",
    "\n",
    "# Median\n",
    "print(np.median(arr_2))\n",
    "\n",
    "# Varianz\n",
    "print(np.var(arr_1))\n",
    "\n",
    "# Standardabweichung\n",
    "print(np.std(arr_1))"
   ]
  },
  {
   "cell_type": "code",
   "execution_count": 12,
   "id": "53b36d6f",
   "metadata": {},
   "outputs": [
    {
     "name": "stdout",
     "output_type": "stream",
     "text": [
      "1\n",
      "5\n",
      "15\n",
      "2\n"
     ]
    }
   ],
   "source": [
    "# Minimaler Wert\n",
    "print(np.min(arr_1))\n",
    "\n",
    "# Maximaler Wert\n",
    "print(np.max(arr_1))\n",
    "\n",
    "# Summe aller Werte\n",
    "print(np.sum(arr_1))\n",
    "\n",
    "# Anzahl der Werte, die größer sind als das arithmetische Mittel\n",
    "print(np.sum(arr_1 > np.mean(arr_1)))"
   ]
  },
  {
   "cell_type": "code",
   "execution_count": 13,
   "id": "46cc2f3a",
   "metadata": {},
   "outputs": [
    {
     "name": "stdout",
     "output_type": "stream",
     "text": [
      "[ 0.48225798  0.65033129 -2.6933601  -0.5338545   0.20451309]\n"
     ]
    }
   ],
   "source": [
    "# Zufallszahlen generieren\n",
    "my_array_6 = np.random.randn(5)\n",
    "print(my_array_6)"
   ]
  }
 ],
 "metadata": {
  "kernelspec": {
   "display_name": "Python 3",
   "language": "python",
   "name": "python3"
  },
  "language_info": {
   "codemirror_mode": {
    "name": "ipython",
    "version": 3
   },
   "file_extension": ".py",
   "mimetype": "text/x-python",
   "name": "python",
   "nbconvert_exporter": "python",
   "pygments_lexer": "ipython3",
   "version": "3.11.4"
  }
 },
 "nbformat": 4,
 "nbformat_minor": 5
}
