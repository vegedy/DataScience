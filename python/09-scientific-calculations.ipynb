{
 "cells": [
  {
   "cell_type": "markdown",
   "id": "a3fc57ff",
   "metadata": {},
   "source": [
    "# Numpy"
   ]
  },
  {
   "cell_type": "code",
   "execution_count": 1,
   "id": "b4f000d0",
   "metadata": {},
   "outputs": [
    {
     "name": "stdout",
     "output_type": "stream",
     "text": [
      "1.26.4\n"
     ]
    }
   ],
   "source": [
    "import numpy as np\n",
    "print(np.__version__)"
   ]
  },
  {
   "cell_type": "code",
   "execution_count": 2,
   "id": "fa46708a",
   "metadata": {},
   "outputs": [
    {
     "name": "stdout",
     "output_type": "stream",
     "text": [
      "[1 2 3 4 5]\n"
     ]
    },
    {
     "data": {
      "text/plain": [
       "True"
      ]
     },
     "execution_count": 2,
     "metadata": {},
     "output_type": "execute_result"
    }
   ],
   "source": [
    "my_list = [1, 2, 3, 4, 5] # eine einfache Python-Liste, Tuple wäre z.B. auch möglich\n",
    "my_array = np.array(my_list)\n",
    "print(my_array)\n",
    "isinstance(my_array, np.ndarray)"
   ]
  },
  {
   "cell_type": "code",
   "execution_count": 3,
   "id": "c7929fed",
   "metadata": {},
   "outputs": [
    {
     "data": {
      "text/plain": [
       "(5,)"
      ]
     },
     "execution_count": 3,
     "metadata": {},
     "output_type": "execute_result"
    }
   ],
   "source": [
    "my_array.shape"
   ]
  },
  {
   "cell_type": "code",
   "execution_count": 4,
   "id": "58a81ccf",
   "metadata": {},
   "outputs": [
    {
     "name": "stdout",
     "output_type": "stream",
     "text": [
      "[[1 2 3]\n",
      " [4 5 6]\n",
      " [7 8 9]]\n"
     ]
    },
    {
     "data": {
      "text/plain": [
       "(3, 3)"
      ]
     },
     "execution_count": 4,
     "metadata": {},
     "output_type": "execute_result"
    }
   ],
   "source": [
    "my_array_2 = np.array([[1,2,3], [4,5,6], [7,8,9]])\n",
    "print(my_array_2)\n",
    "my_array_2.shape"
   ]
  },
  {
   "cell_type": "code",
   "execution_count": 5,
   "id": "5c0277af",
   "metadata": {},
   "outputs": [
    {
     "name": "stdout",
     "output_type": "stream",
     "text": [
      "2\n",
      "9\n",
      "int32\n"
     ]
    }
   ],
   "source": [
    "# die Anzahl der Dimensionen des Arrays ausgeben\n",
    "print(my_array_2.ndim)\n",
    "\n",
    "# die Anzahl der Elemente im Array ausgeben\n",
    "print(my_array_2.size)\n",
    "\n",
    "# den Datentyp der im Array gespeicherten Werte ausgeben\n",
    "print(my_array_2.dtype)"
   ]
  },
  {
   "cell_type": "code",
   "execution_count": 6,
   "id": "ebff3f68",
   "metadata": {},
   "outputs": [
    {
     "name": "stdout",
     "output_type": "stream",
     "text": [
      "[['1' '2' '3']\n",
      " ['4' '5' '6']\n",
      " ['7' '8' 'neun']]\n"
     ]
    }
   ],
   "source": [
    "# Versuch, Datentypen innerhalb eines Arrays zu mischen\n",
    "my_array_3 = np.array([[1,2,3], [4,5,6], [7,8,\"neun\"]])\n",
    "print(my_array_3)"
   ]
  },
  {
   "cell_type": "code",
   "execution_count": 7,
   "id": "b50ba169",
   "metadata": {},
   "outputs": [
    {
     "name": "stdout",
     "output_type": "stream",
     "text": [
      "[ 1  2  3  4  5  6  7  8  9 10]\n",
      "(10,)\n"
     ]
    }
   ],
   "source": [
    "# einen Array aus einem Tupel erzeugen\n",
    "my_array_4 = np.array((1, 2, 3, 4, 5, 6, 7, 8, 9, 10))\n",
    "\n",
    "# den erzeugten Array inspizieren\n",
    "print(my_array_4)\n",
    "print(my_array_4.shape)"
   ]
  },
  {
   "cell_type": "code",
   "execution_count": 8,
   "id": "26e2effb",
   "metadata": {},
   "outputs": [
    {
     "name": "stdout",
     "output_type": "stream",
     "text": [
      "[[ 1  2]\n",
      " [ 3  4]\n",
      " [ 5  6]\n",
      " [ 7  8]\n",
      " [ 9 10]]\n"
     ]
    }
   ],
   "source": [
    "# den ein-dimensionalen Array in einen Array mit 5 Zeilen und 2 Spalten konvertieren\n",
    "my_array_5 = my_array_4.reshape(5, 2)\n",
    "\n",
    "# den neuen Array inspizieren\n",
    "print(my_array_5)"
   ]
  },
  {
   "cell_type": "code",
   "execution_count": 9,
   "id": "d8c68fc7",
   "metadata": {},
   "outputs": [
    {
     "name": "stdout",
     "output_type": "stream",
     "text": [
      "4\n",
      "<memory at 0x000001C1FB865BE0>\n"
     ]
    }
   ],
   "source": [
    "# den Speicherplatz in Bytes ausgeben, den ein Element des Arrays belegt\n",
    "print(my_array_5.itemsize)\n",
    "\n",
    "# die ID für den im RAM belegten Speicher ausgeben\n",
    "print(my_array_5.data)"
   ]
  },
  {
   "cell_type": "code",
   "execution_count": 10,
   "id": "d96a1197",
   "metadata": {},
   "outputs": [
    {
     "name": "stdout",
     "output_type": "stream",
     "text": [
      "[ 7  9 11 13 15]\n",
      "[-5 -5 -5 -5 -5]\n",
      "[ 6 14 24 36 50]\n",
      "[0.16666667 0.28571429 0.375      0.44444444 0.5       ]\n"
     ]
    }
   ],
   "source": [
    "arr_1 = np.array([1, 2, 3, 4, 5])\n",
    "arr_2 = np.array([6, 7, 8, 9, 10])\n",
    "\n",
    "print(arr_1 + arr_2)\n",
    "print(arr_1 - arr_2)\n",
    "print(arr_1 * arr_2)\n",
    "print(arr_1 / arr_2)"
   ]
  },
  {
   "cell_type": "code",
   "execution_count": 11,
   "id": "c599ecba",
   "metadata": {},
   "outputs": [
    {
     "name": "stdout",
     "output_type": "stream",
     "text": [
      "3.0\n",
      "8.0\n",
      "2.0\n",
      "1.4142135623730951\n"
     ]
    }
   ],
   "source": [
    "# arithmetisches Mittel\n",
    "print(np.mean(arr_1))\n",
    "\n",
    "# Median\n",
    "print(np.median(arr_2))\n",
    "\n",
    "# Varianz\n",
    "print(np.var(arr_1))\n",
    "\n",
    "# Standardabweichung\n",
    "print(np.std(arr_1))"
   ]
  },
  {
   "cell_type": "code",
   "execution_count": 12,
   "id": "53b36d6f",
   "metadata": {},
   "outputs": [
    {
     "name": "stdout",
     "output_type": "stream",
     "text": [
      "1\n",
      "5\n",
      "15\n",
      "2\n"
     ]
    }
   ],
   "source": [
    "# Minimaler Wert\n",
    "print(np.min(arr_1))\n",
    "\n",
    "# Maximaler Wert\n",
    "print(np.max(arr_1))\n",
    "\n",
    "# Summe aller Werte\n",
    "print(np.sum(arr_1))\n",
    "\n",
    "# Anzahl der Werte, die größer sind als das arithmetische Mittel\n",
    "print(np.sum(arr_1 > np.mean(arr_1)))"
   ]
  },
  {
   "cell_type": "code",
   "execution_count": 13,
   "id": "46cc2f3a",
   "metadata": {},
   "outputs": [
    {
     "name": "stdout",
     "output_type": "stream",
     "text": [
      "[ 0.99746921  0.35504884 -1.19221462 -0.6345104   0.66533814]\n"
     ]
    }
   ],
   "source": [
    "# Zufallszahlen generieren\n",
    "my_array_6 = np.random.randn(5)\n",
    "print(my_array_6)"
   ]
  },
  {
   "cell_type": "markdown",
   "id": "38723d72",
   "metadata": {},
   "source": [
    "# Pandas\n",
    "Dreh- und Angelpunkt des pandas-Packages sind die sogenannten Dataframes. Diese stel-\n",
    "len Datenstrukturen dar, die einen intuitiven Umgang mit tabellarischen Daten erlauben.\n",
    "Wir können diese Datenstruktur als Tabelle verstehen, bei der die einzelnen Zeilen über\n",
    "einen Index angesprochen werden können und die Spalten aus sogenannten Series beste-\n",
    "hen. Letztere stellen eine Datenstruktur in sich dar, welche das Pandas-Package für uns\n",
    "bereithält. Solch eine Serie stellt, wie gesagt, in aller Regel eine Spalte in einem Dataframe\n",
    "dar, kann aber auch als losgelöstes Objekt erzeugt und behandelt werden. Innerhalb einer\n",
    "Serie können nur Elemente vom gleichen Datentyp gespeichert werden (z. B. String, Integer, Date).\n",
    "Innerhalb eines Dataframes können aber Serien unterschiedlicher Datentypen\n",
    "vereint werden. So können wir z. B. in einer Spalte des Dataframes ein Datum, in einer\n",
    "anderen Spalte einen Text und in einer weiteren Spalte einen Integer speichern."
   ]
  },
  {
   "cell_type": "code",
   "execution_count": 14,
   "id": "47589e09",
   "metadata": {},
   "outputs": [
    {
     "name": "stdout",
     "output_type": "stream",
     "text": [
      "2.1.4\n"
     ]
    }
   ],
   "source": [
    "import pandas as pd\n",
    "import numpy as np\n",
    "print(pd.__version__)"
   ]
  },
  {
   "cell_type": "code",
   "execution_count": 15,
   "id": "a1a2ad81",
   "metadata": {},
   "outputs": [
    {
     "name": "stdout",
     "output_type": "stream",
     "text": [
      "          0         1\n",
      "0 -1.875374  0.266927\n",
      "1  0.708225 -0.817562\n",
      "2  0.783798 -0.572947\n",
      "3 -0.549000 -0.126456\n",
      "4  1.375320 -0.480872\n"
     ]
    }
   ],
   "source": [
    "# zwei Series erzeugen\n",
    "my_series_1 = pd.Series(np.random.randn(5))\n",
    "my_series_2 = pd.Series(np.random.randn(5))\n",
    "\n",
    "# Series spaltenweise zu einem Dataframe verketten\n",
    "my_df_1 = pd.concat([my_series_1, my_series_2], axis=1)\n",
    "\n",
    "# Dataframe anzeigen\n",
    "print(my_df_1)"
   ]
  },
  {
   "cell_type": "code",
   "execution_count": 16,
   "id": "b8de11e7",
   "metadata": {},
   "outputs": [
    {
     "name": "stdout",
     "output_type": "stream",
     "text": [
      "True\n"
     ]
    }
   ],
   "source": [
    "print(isinstance(my_df_1, pd.DataFrame))"
   ]
  },
  {
   "cell_type": "code",
   "execution_count": 17,
   "id": "9eeccd7e",
   "metadata": {},
   "outputs": [
    {
     "name": "stdout",
     "output_type": "stream",
     "text": [
      "      Name  Alter  Lieblingszahl\n",
      "0    Bernd     54      -0.247294\n",
      "1    Silke     36      -0.470312\n",
      "2  Claudia     23      -0.568053\n"
     ]
    }
   ],
   "source": [
    "# einen Dataframe aus einem Dictionary erzeugen\n",
    "my_dic = {\"Name\":['Bernd', 'Silke', 'Claudia'], \\\n",
    "    \"Alter\":[54, 36, 23], \\\n",
    "    \"Lieblingszahl\":np.random.randn(3)\n",
    "    }\n",
    "my_df_2 = pd.DataFrame(my_dic)\n",
    "\n",
    "# Dataframe anzeigen\n",
    "print(my_df_2)"
   ]
  },
  {
   "cell_type": "code",
   "execution_count": 18,
   "id": "b01296be",
   "metadata": {},
   "outputs": [
    {
     "name": "stdout",
     "output_type": "stream",
     "text": [
      "         Name  Alter  Lieblingszahl\n",
      "1001    Bernd     54      -0.247294\n",
      "1002    Silke     36      -0.470312\n",
      "1003  Claudia     23      -0.568053\n",
      "Index(['1001', '1002', '1003'], dtype='object')\n"
     ]
    }
   ],
   "source": [
    "# Dataframe mit anderem Index erzeugen\n",
    "my_df_3 = pd.DataFrame(my_dic, \\\n",
    "index=['1001', '1002', '1003'])\n",
    "\n",
    "# Dataframe anzeigen\n",
    "print(my_df_3)\n",
    "\n",
    "print(my_df_3.index)"
   ]
  },
  {
   "cell_type": "code",
   "execution_count": 19,
   "id": "3e0ba4bf",
   "metadata": {},
   "outputs": [
    {
     "name": "stdout",
     "output_type": "stream",
     "text": [
      "   place  min  max        type public      date      fee resp\n",
      "0    NaN  2.1  4.8        trad   True       NaN  £200.45   CT\n",
      "1    NaN  NaN  3.2         NaN  False  1/1/2017  £150.38   AS\n",
      "2   25.0  2.3  3.3     forrest   True  2/1/2017   £85.07   CT\n",
      "3   35.0  2.4  NaN        trad    NaN  3/1/2017      NaN   CT\n",
      "4    NaN  2.1  4.8        trad   True       NaN  £200.45   CT\n",
      "5   12.0  NaN  3.3     waldorf  False  2/1/2017  £350.96   AS\n",
      "6   18.0  2.5  NaN     forrest    NaN  4/1/2017      NaN   CT\n",
      "7   15.0  2.3  4.3  montessori   True  2/1/2017   £85.07   CT\n"
     ]
    }
   ],
   "source": [
    "# Daten aus einer CSV-Datei in einen Dataframe laden\n",
    "dat = pd.read_csv('data/sample_data.csv')\n",
    "\n",
    "# Dataframe anzeigen\n",
    "print(dat)"
   ]
  },
  {
   "cell_type": "code",
   "execution_count": 20,
   "id": "f1b867a6",
   "metadata": {},
   "outputs": [
    {
     "data": {
      "text/plain": [
       "(8, 8)"
      ]
     },
     "execution_count": 20,
     "metadata": {},
     "output_type": "execute_result"
    }
   ],
   "source": [
    "dat.shape"
   ]
  },
  {
   "cell_type": "code",
   "execution_count": 21,
   "id": "1494c586",
   "metadata": {},
   "outputs": [
    {
     "name": "stdout",
     "output_type": "stream",
     "text": [
      "<class 'pandas.core.frame.DataFrame'>\n",
      "RangeIndex: 8 entries, 0 to 7\n",
      "Data columns (total 8 columns):\n",
      " #   Column  Non-Null Count  Dtype  \n",
      "---  ------  --------------  -----  \n",
      " 0   place   5 non-null      float64\n",
      " 1   min     6 non-null      float64\n",
      " 2   max     6 non-null      float64\n",
      " 3   type    7 non-null      object \n",
      " 4   public  6 non-null      object \n",
      " 5   date    6 non-null      object \n",
      " 6   fee     6 non-null      object \n",
      " 7   resp    8 non-null      object \n",
      "dtypes: float64(3), object(5)\n",
      "memory usage: 644.0+ bytes\n"
     ]
    }
   ],
   "source": [
    "dat.info()"
   ]
  },
  {
   "cell_type": "code",
   "execution_count": 22,
   "id": "0cb5684c",
   "metadata": {},
   "outputs": [
    {
     "data": {
      "text/html": [
       "<div>\n",
       "<style scoped>\n",
       "    .dataframe tbody tr th:only-of-type {\n",
       "        vertical-align: middle;\n",
       "    }\n",
       "\n",
       "    .dataframe tbody tr th {\n",
       "        vertical-align: top;\n",
       "    }\n",
       "\n",
       "    .dataframe thead th {\n",
       "        text-align: right;\n",
       "    }\n",
       "</style>\n",
       "<table border=\"1\" class=\"dataframe\">\n",
       "  <thead>\n",
       "    <tr style=\"text-align: right;\">\n",
       "      <th></th>\n",
       "      <th>place</th>\n",
       "      <th>min</th>\n",
       "      <th>max</th>\n",
       "    </tr>\n",
       "  </thead>\n",
       "  <tbody>\n",
       "    <tr>\n",
       "      <th>count</th>\n",
       "      <td>5.000000</td>\n",
       "      <td>6.000000</td>\n",
       "      <td>6.000000</td>\n",
       "    </tr>\n",
       "    <tr>\n",
       "      <th>mean</th>\n",
       "      <td>21.000000</td>\n",
       "      <td>2.283333</td>\n",
       "      <td>3.950000</td>\n",
       "    </tr>\n",
       "    <tr>\n",
       "      <th>std</th>\n",
       "      <td>9.192388</td>\n",
       "      <td>0.160208</td>\n",
       "      <td>0.771362</td>\n",
       "    </tr>\n",
       "    <tr>\n",
       "      <th>min</th>\n",
       "      <td>12.000000</td>\n",
       "      <td>2.100000</td>\n",
       "      <td>3.200000</td>\n",
       "    </tr>\n",
       "    <tr>\n",
       "      <th>25%</th>\n",
       "      <td>15.000000</td>\n",
       "      <td>2.150000</td>\n",
       "      <td>3.300000</td>\n",
       "    </tr>\n",
       "    <tr>\n",
       "      <th>50%</th>\n",
       "      <td>18.000000</td>\n",
       "      <td>2.300000</td>\n",
       "      <td>3.800000</td>\n",
       "    </tr>\n",
       "    <tr>\n",
       "      <th>75%</th>\n",
       "      <td>25.000000</td>\n",
       "      <td>2.375000</td>\n",
       "      <td>4.675000</td>\n",
       "    </tr>\n",
       "    <tr>\n",
       "      <th>max</th>\n",
       "      <td>35.000000</td>\n",
       "      <td>2.500000</td>\n",
       "      <td>4.800000</td>\n",
       "    </tr>\n",
       "  </tbody>\n",
       "</table>\n",
       "</div>"
      ],
      "text/plain": [
       "           place       min       max\n",
       "count   5.000000  6.000000  6.000000\n",
       "mean   21.000000  2.283333  3.950000\n",
       "std     9.192388  0.160208  0.771362\n",
       "min    12.000000  2.100000  3.200000\n",
       "25%    15.000000  2.150000  3.300000\n",
       "50%    18.000000  2.300000  3.800000\n",
       "75%    25.000000  2.375000  4.675000\n",
       "max    35.000000  2.500000  4.800000"
      ]
     },
     "execution_count": 22,
     "metadata": {},
     "output_type": "execute_result"
    }
   ],
   "source": [
    "dat.describe()"
   ]
  },
  {
   "cell_type": "code",
   "execution_count": 23,
   "id": "42cac066",
   "metadata": {},
   "outputs": [
    {
     "data": {
      "text/plain": [
       "resp\n",
       "CT    6\n",
       "AS    2\n",
       "Name: count, dtype: int64"
      ]
     },
     "execution_count": 23,
     "metadata": {},
     "output_type": "execute_result"
    }
   ],
   "source": [
    "# Anzahl der vorkommenden Werte in der resp Spalte anzeigen\n",
    "dat[\"resp\"].value_counts()"
   ]
  },
  {
   "cell_type": "code",
   "execution_count": 24,
   "id": "8a6c2b6f",
   "metadata": {},
   "outputs": [
    {
     "data": {
      "text/plain": [
       "place     3\n",
       "min       2\n",
       "max       2\n",
       "type      1\n",
       "public    2\n",
       "date      2\n",
       "fee       2\n",
       "resp      0\n",
       "dtype: int64"
      ]
     },
     "execution_count": 24,
     "metadata": {},
     "output_type": "execute_result"
    }
   ],
   "source": [
    "# Anzahl der fehlenden Werte für jede Spalte anzeigen\n",
    "dat.isna().sum()"
   ]
  },
  {
   "cell_type": "code",
   "execution_count": 25,
   "id": "4eebabca",
   "metadata": {},
   "outputs": [
    {
     "data": {
      "text/plain": [
       "0    £200.45\n",
       "1    £150.38\n",
       "2     £85.07\n",
       "3        NaN\n",
       "4    £200.45\n",
       "5    £350.96\n",
       "6        NaN\n",
       "7     £85.07\n",
       "Name: fee, dtype: object"
      ]
     },
     "execution_count": 25,
     "metadata": {},
     "output_type": "execute_result"
    }
   ],
   "source": [
    "# Auf einzelne Spalte zugreifen\n",
    "dat[\"fee\"]"
   ]
  },
  {
   "cell_type": "code",
   "execution_count": 26,
   "id": "07492cda",
   "metadata": {},
   "outputs": [
    {
     "data": {
      "text/plain": [
       "'forrest'"
      ]
     },
     "execution_count": 26,
     "metadata": {},
     "output_type": "execute_result"
    }
   ],
   "source": [
    "# Auf einzelnen Wert via loc zugreifen (erst Zeilenindex, dann Spaltenname)\n",
    "dat.loc[2, 'type']"
   ]
  },
  {
   "cell_type": "code",
   "execution_count": 27,
   "id": "0b400d88",
   "metadata": {},
   "outputs": [
    {
     "data": {
      "text/plain": [
       "'forrest'"
      ]
     },
     "execution_count": 27,
     "metadata": {},
     "output_type": "execute_result"
    }
   ],
   "source": [
    "# Auf einzelnen Wert via iloc zugreifen (erst Zeilenindex, dann Spaltenindex)\n",
    "dat.iloc[2, 3]"
   ]
  },
  {
   "cell_type": "code",
   "execution_count": 28,
   "id": "44f9b510",
   "metadata": {},
   "outputs": [
    {
     "data": {
      "text/plain": [
       "array([['forrest', True, '2/1/2017'],\n",
       "       ['trad', nan, '3/1/2017'],\n",
       "       ['trad', True, nan]], dtype=object)"
      ]
     },
     "execution_count": 28,
     "metadata": {},
     "output_type": "execute_result"
    }
   ],
   "source": [
    "# Auf bestimmten Bereich zugreifen\n",
    "dat.iloc[2:5, 3:6].values"
   ]
  },
  {
   "cell_type": "code",
   "execution_count": 29,
   "id": "e56a3378",
   "metadata": {},
   "outputs": [
    {
     "data": {
      "text/plain": [
       "0    False\n",
       "1    False\n",
       "2    False\n",
       "3    False\n",
       "4     True\n",
       "5    False\n",
       "6    False\n",
       "7    False\n",
       "dtype: bool"
      ]
     },
     "execution_count": 29,
     "metadata": {},
     "output_type": "execute_result"
    }
   ],
   "source": [
    "# Duplizierte Werte anzeigen\n",
    "dat.duplicated()"
   ]
  },
  {
   "cell_type": "code",
   "execution_count": 30,
   "id": "830a5daa",
   "metadata": {},
   "outputs": [
    {
     "data": {
      "text/html": [
       "<div>\n",
       "<style scoped>\n",
       "    .dataframe tbody tr th:only-of-type {\n",
       "        vertical-align: middle;\n",
       "    }\n",
       "\n",
       "    .dataframe tbody tr th {\n",
       "        vertical-align: top;\n",
       "    }\n",
       "\n",
       "    .dataframe thead th {\n",
       "        text-align: right;\n",
       "    }\n",
       "</style>\n",
       "<table border=\"1\" class=\"dataframe\">\n",
       "  <thead>\n",
       "    <tr style=\"text-align: right;\">\n",
       "      <th></th>\n",
       "      <th>place</th>\n",
       "      <th>min</th>\n",
       "      <th>max</th>\n",
       "      <th>type</th>\n",
       "      <th>public</th>\n",
       "      <th>date</th>\n",
       "      <th>fee</th>\n",
       "      <th>resp</th>\n",
       "    </tr>\n",
       "  </thead>\n",
       "  <tbody>\n",
       "    <tr>\n",
       "      <th>0</th>\n",
       "      <td>NaN</td>\n",
       "      <td>2.1</td>\n",
       "      <td>4.8</td>\n",
       "      <td>trad</td>\n",
       "      <td>True</td>\n",
       "      <td>NaN</td>\n",
       "      <td>£200.45</td>\n",
       "      <td>CT</td>\n",
       "    </tr>\n",
       "    <tr>\n",
       "      <th>1</th>\n",
       "      <td>NaN</td>\n",
       "      <td>NaN</td>\n",
       "      <td>3.2</td>\n",
       "      <td>NaN</td>\n",
       "      <td>False</td>\n",
       "      <td>1/1/2017</td>\n",
       "      <td>£150.38</td>\n",
       "      <td>AS</td>\n",
       "    </tr>\n",
       "    <tr>\n",
       "      <th>2</th>\n",
       "      <td>25.0</td>\n",
       "      <td>2.3</td>\n",
       "      <td>3.3</td>\n",
       "      <td>forrest</td>\n",
       "      <td>True</td>\n",
       "      <td>2/1/2017</td>\n",
       "      <td>£85.07</td>\n",
       "      <td>CT</td>\n",
       "    </tr>\n",
       "    <tr>\n",
       "      <th>3</th>\n",
       "      <td>35.0</td>\n",
       "      <td>2.4</td>\n",
       "      <td>NaN</td>\n",
       "      <td>trad</td>\n",
       "      <td>NaN</td>\n",
       "      <td>3/1/2017</td>\n",
       "      <td>NaN</td>\n",
       "      <td>CT</td>\n",
       "    </tr>\n",
       "    <tr>\n",
       "      <th>5</th>\n",
       "      <td>12.0</td>\n",
       "      <td>NaN</td>\n",
       "      <td>3.3</td>\n",
       "      <td>waldorf</td>\n",
       "      <td>False</td>\n",
       "      <td>2/1/2017</td>\n",
       "      <td>£350.96</td>\n",
       "      <td>AS</td>\n",
       "    </tr>\n",
       "    <tr>\n",
       "      <th>6</th>\n",
       "      <td>18.0</td>\n",
       "      <td>2.5</td>\n",
       "      <td>NaN</td>\n",
       "      <td>forrest</td>\n",
       "      <td>NaN</td>\n",
       "      <td>4/1/2017</td>\n",
       "      <td>NaN</td>\n",
       "      <td>CT</td>\n",
       "    </tr>\n",
       "    <tr>\n",
       "      <th>7</th>\n",
       "      <td>15.0</td>\n",
       "      <td>2.3</td>\n",
       "      <td>4.3</td>\n",
       "      <td>montessori</td>\n",
       "      <td>True</td>\n",
       "      <td>2/1/2017</td>\n",
       "      <td>£85.07</td>\n",
       "      <td>CT</td>\n",
       "    </tr>\n",
       "  </tbody>\n",
       "</table>\n",
       "</div>"
      ],
      "text/plain": [
       "   place  min  max        type public      date      fee resp\n",
       "0    NaN  2.1  4.8        trad   True       NaN  £200.45   CT\n",
       "1    NaN  NaN  3.2         NaN  False  1/1/2017  £150.38   AS\n",
       "2   25.0  2.3  3.3     forrest   True  2/1/2017   £85.07   CT\n",
       "3   35.0  2.4  NaN        trad    NaN  3/1/2017      NaN   CT\n",
       "5   12.0  NaN  3.3     waldorf  False  2/1/2017  £350.96   AS\n",
       "6   18.0  2.5  NaN     forrest    NaN  4/1/2017      NaN   CT\n",
       "7   15.0  2.3  4.3  montessori   True  2/1/2017   £85.07   CT"
      ]
     },
     "execution_count": 30,
     "metadata": {},
     "output_type": "execute_result"
    }
   ],
   "source": [
    "# Duplikate entfernen\n",
    "dat.drop_duplicates()"
   ]
  },
  {
   "cell_type": "code",
   "execution_count": 31,
   "id": "ddec900f",
   "metadata": {},
   "outputs": [
    {
     "data": {
      "text/html": [
       "<div>\n",
       "<style scoped>\n",
       "    .dataframe tbody tr th:only-of-type {\n",
       "        vertical-align: middle;\n",
       "    }\n",
       "\n",
       "    .dataframe tbody tr th {\n",
       "        vertical-align: top;\n",
       "    }\n",
       "\n",
       "    .dataframe thead th {\n",
       "        text-align: right;\n",
       "    }\n",
       "</style>\n",
       "<table border=\"1\" class=\"dataframe\">\n",
       "  <thead>\n",
       "    <tr style=\"text-align: right;\">\n",
       "      <th></th>\n",
       "      <th>place</th>\n",
       "      <th>min</th>\n",
       "      <th>max</th>\n",
       "      <th>type</th>\n",
       "      <th>public</th>\n",
       "      <th>date</th>\n",
       "      <th>fee</th>\n",
       "      <th>resp</th>\n",
       "    </tr>\n",
       "  </thead>\n",
       "  <tbody>\n",
       "    <tr>\n",
       "      <th>0</th>\n",
       "      <td>18.0</td>\n",
       "      <td>2.100000</td>\n",
       "      <td>4.80</td>\n",
       "      <td>trad</td>\n",
       "      <td>True</td>\n",
       "      <td>1/1/2017</td>\n",
       "      <td>£200.45</td>\n",
       "      <td>CT</td>\n",
       "    </tr>\n",
       "    <tr>\n",
       "      <th>1</th>\n",
       "      <td>18.0</td>\n",
       "      <td>2.283333</td>\n",
       "      <td>3.20</td>\n",
       "      <td>trad</td>\n",
       "      <td>False</td>\n",
       "      <td>1/1/2017</td>\n",
       "      <td>£150.38</td>\n",
       "      <td>AS</td>\n",
       "    </tr>\n",
       "    <tr>\n",
       "      <th>2</th>\n",
       "      <td>25.0</td>\n",
       "      <td>2.300000</td>\n",
       "      <td>3.30</td>\n",
       "      <td>forrest</td>\n",
       "      <td>True</td>\n",
       "      <td>2/1/2017</td>\n",
       "      <td>£85.07</td>\n",
       "      <td>CT</td>\n",
       "    </tr>\n",
       "    <tr>\n",
       "      <th>3</th>\n",
       "      <td>35.0</td>\n",
       "      <td>2.400000</td>\n",
       "      <td>3.95</td>\n",
       "      <td>trad</td>\n",
       "      <td>True</td>\n",
       "      <td>3/1/2017</td>\n",
       "      <td>£250.00</td>\n",
       "      <td>CT</td>\n",
       "    </tr>\n",
       "    <tr>\n",
       "      <th>4</th>\n",
       "      <td>18.0</td>\n",
       "      <td>2.100000</td>\n",
       "      <td>4.80</td>\n",
       "      <td>trad</td>\n",
       "      <td>True</td>\n",
       "      <td>1/1/2017</td>\n",
       "      <td>£200.45</td>\n",
       "      <td>CT</td>\n",
       "    </tr>\n",
       "    <tr>\n",
       "      <th>5</th>\n",
       "      <td>12.0</td>\n",
       "      <td>2.283333</td>\n",
       "      <td>3.30</td>\n",
       "      <td>waldorf</td>\n",
       "      <td>False</td>\n",
       "      <td>2/1/2017</td>\n",
       "      <td>£350.96</td>\n",
       "      <td>AS</td>\n",
       "    </tr>\n",
       "    <tr>\n",
       "      <th>6</th>\n",
       "      <td>18.0</td>\n",
       "      <td>2.500000</td>\n",
       "      <td>3.95</td>\n",
       "      <td>forrest</td>\n",
       "      <td>True</td>\n",
       "      <td>4/1/2017</td>\n",
       "      <td>£250.00</td>\n",
       "      <td>CT</td>\n",
       "    </tr>\n",
       "    <tr>\n",
       "      <th>7</th>\n",
       "      <td>15.0</td>\n",
       "      <td>2.300000</td>\n",
       "      <td>4.30</td>\n",
       "      <td>montessori</td>\n",
       "      <td>True</td>\n",
       "      <td>2/1/2017</td>\n",
       "      <td>£85.07</td>\n",
       "      <td>CT</td>\n",
       "    </tr>\n",
       "  </tbody>\n",
       "</table>\n",
       "</div>"
      ],
      "text/plain": [
       "   place       min   max        type  public      date      fee resp\n",
       "0   18.0  2.100000  4.80        trad    True  1/1/2017  £200.45   CT\n",
       "1   18.0  2.283333  3.20        trad   False  1/1/2017  £150.38   AS\n",
       "2   25.0  2.300000  3.30     forrest    True  2/1/2017   £85.07   CT\n",
       "3   35.0  2.400000  3.95        trad    True  3/1/2017  £250.00   CT\n",
       "4   18.0  2.100000  4.80        trad    True  1/1/2017  £200.45   CT\n",
       "5   12.0  2.283333  3.30     waldorf   False  2/1/2017  £350.96   AS\n",
       "6   18.0  2.500000  3.95     forrest    True  4/1/2017  £250.00   CT\n",
       "7   15.0  2.300000  4.30  montessori    True  2/1/2017   £85.07   CT"
      ]
     },
     "execution_count": 31,
     "metadata": {},
     "output_type": "execute_result"
    }
   ],
   "source": [
    "# spaltenweise definieren, wie fehlende Werte ersetzt werden sollen\n",
    "fill_values = {\n",
    "    'place': np.nanmedian(dat['place']),\n",
    "    'min': np.mean(dat['min']),\n",
    "    'max': np.mean(dat['max']),\n",
    "    'type': 'trad',\n",
    "    'public': True,\n",
    "    'date': '1/1/2017',\n",
    "    'fee': '£250.00'\n",
    "}\n",
    "\n",
    "# fehlende Werte ersetzen\n",
    "dat.fillna(value=fill_values, inplace=True)\n",
    "\n",
    "dat"
   ]
  },
  {
   "cell_type": "code",
   "execution_count": 32,
   "id": "671f767e",
   "metadata": {},
   "outputs": [
    {
     "data": {
      "text/html": [
       "<div>\n",
       "<style scoped>\n",
       "    .dataframe tbody tr th:only-of-type {\n",
       "        vertical-align: middle;\n",
       "    }\n",
       "\n",
       "    .dataframe tbody tr th {\n",
       "        vertical-align: top;\n",
       "    }\n",
       "\n",
       "    .dataframe thead th {\n",
       "        text-align: right;\n",
       "    }\n",
       "</style>\n",
       "<table border=\"1\" class=\"dataframe\">\n",
       "  <thead>\n",
       "    <tr style=\"text-align: right;\">\n",
       "      <th></th>\n",
       "      <th>place</th>\n",
       "      <th>min</th>\n",
       "      <th>max</th>\n",
       "      <th>type</th>\n",
       "      <th>public</th>\n",
       "      <th>date</th>\n",
       "      <th>fee</th>\n",
       "      <th>resp</th>\n",
       "    </tr>\n",
       "  </thead>\n",
       "  <tbody>\n",
       "    <tr>\n",
       "      <th>0</th>\n",
       "      <td>18.0</td>\n",
       "      <td>2.100000</td>\n",
       "      <td>4.80</td>\n",
       "      <td>trad</td>\n",
       "      <td>True</td>\n",
       "      <td>1/1/2017</td>\n",
       "      <td>200.45</td>\n",
       "      <td>CT</td>\n",
       "    </tr>\n",
       "    <tr>\n",
       "      <th>1</th>\n",
       "      <td>18.0</td>\n",
       "      <td>2.283333</td>\n",
       "      <td>3.20</td>\n",
       "      <td>trad</td>\n",
       "      <td>False</td>\n",
       "      <td>1/1/2017</td>\n",
       "      <td>150.38</td>\n",
       "      <td>AS</td>\n",
       "    </tr>\n",
       "    <tr>\n",
       "      <th>2</th>\n",
       "      <td>25.0</td>\n",
       "      <td>2.300000</td>\n",
       "      <td>3.30</td>\n",
       "      <td>forrest</td>\n",
       "      <td>True</td>\n",
       "      <td>2/1/2017</td>\n",
       "      <td>85.07</td>\n",
       "      <td>CT</td>\n",
       "    </tr>\n",
       "    <tr>\n",
       "      <th>3</th>\n",
       "      <td>35.0</td>\n",
       "      <td>2.400000</td>\n",
       "      <td>3.95</td>\n",
       "      <td>trad</td>\n",
       "      <td>True</td>\n",
       "      <td>3/1/2017</td>\n",
       "      <td>250.00</td>\n",
       "      <td>CT</td>\n",
       "    </tr>\n",
       "    <tr>\n",
       "      <th>4</th>\n",
       "      <td>18.0</td>\n",
       "      <td>2.100000</td>\n",
       "      <td>4.80</td>\n",
       "      <td>trad</td>\n",
       "      <td>True</td>\n",
       "      <td>1/1/2017</td>\n",
       "      <td>200.45</td>\n",
       "      <td>CT</td>\n",
       "    </tr>\n",
       "    <tr>\n",
       "      <th>5</th>\n",
       "      <td>12.0</td>\n",
       "      <td>2.283333</td>\n",
       "      <td>3.30</td>\n",
       "      <td>waldorf</td>\n",
       "      <td>False</td>\n",
       "      <td>2/1/2017</td>\n",
       "      <td>350.96</td>\n",
       "      <td>AS</td>\n",
       "    </tr>\n",
       "    <tr>\n",
       "      <th>6</th>\n",
       "      <td>18.0</td>\n",
       "      <td>2.500000</td>\n",
       "      <td>3.95</td>\n",
       "      <td>forrest</td>\n",
       "      <td>True</td>\n",
       "      <td>4/1/2017</td>\n",
       "      <td>250.00</td>\n",
       "      <td>CT</td>\n",
       "    </tr>\n",
       "    <tr>\n",
       "      <th>7</th>\n",
       "      <td>15.0</td>\n",
       "      <td>2.300000</td>\n",
       "      <td>4.30</td>\n",
       "      <td>montessori</td>\n",
       "      <td>True</td>\n",
       "      <td>2/1/2017</td>\n",
       "      <td>85.07</td>\n",
       "      <td>CT</td>\n",
       "    </tr>\n",
       "  </tbody>\n",
       "</table>\n",
       "</div>"
      ],
      "text/plain": [
       "   place       min   max        type  public      date     fee resp\n",
       "0   18.0  2.100000  4.80        trad    True  1/1/2017  200.45   CT\n",
       "1   18.0  2.283333  3.20        trad   False  1/1/2017  150.38   AS\n",
       "2   25.0  2.300000  3.30     forrest    True  2/1/2017   85.07   CT\n",
       "3   35.0  2.400000  3.95        trad    True  3/1/2017  250.00   CT\n",
       "4   18.0  2.100000  4.80        trad    True  1/1/2017  200.45   CT\n",
       "5   12.0  2.283333  3.30     waldorf   False  2/1/2017  350.96   AS\n",
       "6   18.0  2.500000  3.95     forrest    True  4/1/2017  250.00   CT\n",
       "7   15.0  2.300000  4.30  montessori    True  2/1/2017   85.07   CT"
      ]
     },
     "execution_count": 32,
     "metadata": {},
     "output_type": "execute_result"
    }
   ],
   "source": [
    "# Pfundzeichen in 'fee'-Spalte entfernen und nach 'float' konvertieren\n",
    "dat['fee'] = dat['fee']\\\n",
    "    .map(lambda x: str(x)[1:])\\\n",
    "    .astype('float')\n",
    "\n",
    "dat"
   ]
  },
  {
   "cell_type": "code",
   "execution_count": 33,
   "id": "d15e753b",
   "metadata": {},
   "outputs": [
    {
     "data": {
      "text/html": [
       "<div>\n",
       "<style scoped>\n",
       "    .dataframe tbody tr th:only-of-type {\n",
       "        vertical-align: middle;\n",
       "    }\n",
       "\n",
       "    .dataframe tbody tr th {\n",
       "        vertical-align: top;\n",
       "    }\n",
       "\n",
       "    .dataframe thead th {\n",
       "        text-align: right;\n",
       "    }\n",
       "</style>\n",
       "<table border=\"1\" class=\"dataframe\">\n",
       "  <thead>\n",
       "    <tr style=\"text-align: right;\">\n",
       "      <th></th>\n",
       "      <th>place</th>\n",
       "      <th>min</th>\n",
       "      <th>max</th>\n",
       "      <th>type</th>\n",
       "      <th>public</th>\n",
       "      <th>date</th>\n",
       "      <th>fee</th>\n",
       "      <th>resp</th>\n",
       "    </tr>\n",
       "  </thead>\n",
       "  <tbody>\n",
       "    <tr>\n",
       "      <th>0</th>\n",
       "      <td>18.0</td>\n",
       "      <td>2.100000</td>\n",
       "      <td>4.80</td>\n",
       "      <td>trad</td>\n",
       "      <td>True</td>\n",
       "      <td>1/1/2017</td>\n",
       "      <td>200.45</td>\n",
       "      <td>City</td>\n",
       "    </tr>\n",
       "    <tr>\n",
       "      <th>1</th>\n",
       "      <td>18.0</td>\n",
       "      <td>2.283333</td>\n",
       "      <td>3.20</td>\n",
       "      <td>trad</td>\n",
       "      <td>False</td>\n",
       "      <td>1/1/2017</td>\n",
       "      <td>150.38</td>\n",
       "      <td>Ass.</td>\n",
       "    </tr>\n",
       "    <tr>\n",
       "      <th>2</th>\n",
       "      <td>25.0</td>\n",
       "      <td>2.300000</td>\n",
       "      <td>3.30</td>\n",
       "      <td>forrest</td>\n",
       "      <td>True</td>\n",
       "      <td>2/1/2017</td>\n",
       "      <td>85.07</td>\n",
       "      <td>City</td>\n",
       "    </tr>\n",
       "    <tr>\n",
       "      <th>3</th>\n",
       "      <td>35.0</td>\n",
       "      <td>2.400000</td>\n",
       "      <td>3.95</td>\n",
       "      <td>trad</td>\n",
       "      <td>True</td>\n",
       "      <td>3/1/2017</td>\n",
       "      <td>250.00</td>\n",
       "      <td>City</td>\n",
       "    </tr>\n",
       "    <tr>\n",
       "      <th>4</th>\n",
       "      <td>18.0</td>\n",
       "      <td>2.100000</td>\n",
       "      <td>4.80</td>\n",
       "      <td>trad</td>\n",
       "      <td>True</td>\n",
       "      <td>1/1/2017</td>\n",
       "      <td>200.45</td>\n",
       "      <td>City</td>\n",
       "    </tr>\n",
       "    <tr>\n",
       "      <th>5</th>\n",
       "      <td>12.0</td>\n",
       "      <td>2.283333</td>\n",
       "      <td>3.30</td>\n",
       "      <td>waldorf</td>\n",
       "      <td>False</td>\n",
       "      <td>2/1/2017</td>\n",
       "      <td>350.96</td>\n",
       "      <td>Ass.</td>\n",
       "    </tr>\n",
       "    <tr>\n",
       "      <th>6</th>\n",
       "      <td>18.0</td>\n",
       "      <td>2.500000</td>\n",
       "      <td>3.95</td>\n",
       "      <td>forrest</td>\n",
       "      <td>True</td>\n",
       "      <td>4/1/2017</td>\n",
       "      <td>250.00</td>\n",
       "      <td>City</td>\n",
       "    </tr>\n",
       "    <tr>\n",
       "      <th>7</th>\n",
       "      <td>15.0</td>\n",
       "      <td>2.300000</td>\n",
       "      <td>4.30</td>\n",
       "      <td>montessori</td>\n",
       "      <td>True</td>\n",
       "      <td>2/1/2017</td>\n",
       "      <td>85.07</td>\n",
       "      <td>City</td>\n",
       "    </tr>\n",
       "  </tbody>\n",
       "</table>\n",
       "</div>"
      ],
      "text/plain": [
       "   place       min   max        type  public      date     fee  resp\n",
       "0   18.0  2.100000  4.80        trad    True  1/1/2017  200.45  City\n",
       "1   18.0  2.283333  3.20        trad   False  1/1/2017  150.38  Ass.\n",
       "2   25.0  2.300000  3.30     forrest    True  2/1/2017   85.07  City\n",
       "3   35.0  2.400000  3.95        trad    True  3/1/2017  250.00  City\n",
       "4   18.0  2.100000  4.80        trad    True  1/1/2017  200.45  City\n",
       "5   12.0  2.283333  3.30     waldorf   False  2/1/2017  350.96  Ass.\n",
       "6   18.0  2.500000  3.95     forrest    True  4/1/2017  250.00  City\n",
       "7   15.0  2.300000  4.30  montessori    True  2/1/2017   85.07  City"
      ]
     },
     "execution_count": 33,
     "metadata": {},
     "output_type": "execute_result"
    }
   ],
   "source": [
    "# Werte ersetzen\n",
    "rep_dic = {'CT':'City', 'AS':'Ass.'}\n",
    "dat['resp'].replace(to_replace=rep_dic, inplace=True)\n",
    "\n",
    "dat"
   ]
  },
  {
   "cell_type": "code",
   "execution_count": 34,
   "id": "9072ecd3",
   "metadata": {},
   "outputs": [],
   "source": [
    "# Dataframe als CSV-Datei speichern\n",
    "dat.to_csv('data/preprocessed_data.csv', encoding=\"utf-8\")"
   ]
  },
  {
   "cell_type": "markdown",
   "id": "99a4c961",
   "metadata": {},
   "source": [
    "# SciPy\n",
    "\n",
    "SciPy ist eine nützliche Bibliothek für wissenschaftliches Rechnen in Python. Sie baut auf\n",
    "der low-level NumPy-Bibliothek für ein- und mehrdimensionale Arrays auf. Diese Biblio-\n",
    "thek stellt eine große Anzahl von wissenschaftlichen high-level Algorithmen in Python zur\n",
    "Verfügung"
   ]
  },
  {
   "cell_type": "code",
   "execution_count": 35,
   "id": "8260ff1e",
   "metadata": {},
   "outputs": [],
   "source": [
    "import numpy as np\n",
    "from scipy.special import jn, yn, jn_zeros, yn_zeros\n",
    "from scipy.integrate import quad, dblquad, tplquad\n",
    "import matplotlib.pyplot as plt\n",
    "from scipy.interpolate import interp1d"
   ]
  },
  {
   "cell_type": "code",
   "execution_count": 36,
   "id": "c5597dda",
   "metadata": {},
   "outputs": [
    {
     "name": "stdout",
     "output_type": "stream",
     "text": [
      "Besselfunktion erster Art\n",
      "1.0\n",
      "Besselfunktion zweiter Art\n",
      "0.08825696421567697\n"
     ]
    }
   ],
   "source": [
    "# Berechnung von Besselfunktionen erster Art\n",
    "alpha = 0\n",
    "x = 0.0\n",
    "print(\"Besselfunktion erster Art\")\n",
    "print(jn(alpha, x))\n",
    "\n",
    "# Berechnung von Besselfunktionen zweiter Art\n",
    "x = 1.0\n",
    "print(\"Besselfunktion zweiter Art\")\n",
    "print(yn(alpha, x))"
   ]
  },
  {
   "cell_type": "code",
   "execution_count": 37,
   "id": "e107f601",
   "metadata": {},
   "outputs": [
    {
     "data": {
      "image/png": "[encoded data removed]",
      "text/plain": [
       "<Figure size 640x480 with 1 Axes>"
      ]
     },
     "metadata": {},
     "output_type": "display_data"
    }
   ],
   "source": [
    "# vier Besselfunktionen aufzeichnen\n",
    "x = np.linspace(0, 10, 100)\n",
    "fig, ax = plt.subplots()\n",
    "\n",
    "for alpha in range(4):\n",
    "    ax.plot(x, jn(alpha, x), label=f'J_{alpha}(x)')\n",
    "\n",
    "ax.legend()\n",
    "plt.xlabel(\"x\")\n",
    "plt.ylabel(\"y\")\n",
    "plt.title(\"Besselfunktionen\")\n",
    "plt.show()"
   ]
  },
  {
   "cell_type": "code",
   "execution_count": 38,
   "id": "54031670",
   "metadata": {},
   "outputs": [
    {
     "name": "stdout",
     "output_type": "stream",
     "text": [
      "Integralwert: 0.8414709848078965\n",
      "Absoluter Fehler 9.34220461887732e-15\n"
     ]
    }
   ],
   "source": [
    "# Definitives Integral berechnen\n",
    "a = 0\n",
    "b = 1\n",
    "integral_value, absolute_error = quad(np.cos, a, b)\n",
    "print('Integralwert:', integral_value)\n",
    "print('Absoluter Fehler', absolute_error)"
   ]
  },
  {
   "cell_type": "markdown",
   "id": "4d72a6f7",
   "metadata": {},
   "source": [
    "### Lineare und kubische Interpolation zwischen bekannten Werten"
   ]
  },
  {
   "cell_type": "code",
   "execution_count": 39,
   "id": "92de42fe",
   "metadata": {},
   "outputs": [],
   "source": [
    "# Wertebereiche generieren\n",
    "n = np.arange(0, 10)\n",
    "x = np.linspace(0, 9, 100)\n",
    "\n",
    "# die tatsächlichen Werte berechnen\n",
    "y_actual = np.cos(x)\n",
    "\n",
    "# zufällige Versuchsdaten erzeugen\n",
    "y_experiment = np.cos(n) + 0.1 * np.random.randn(len(n))"
   ]
  },
  {
   "cell_type": "code",
   "execution_count": 40,
   "id": "7f2f8b06",
   "metadata": {},
   "outputs": [],
   "source": [
    "# lineare Interpolation durchführen\n",
    "linear_interpolation = interp1d(n, y_experiment, kind=\"linear\")\n",
    "y_linear_interpolation = linear_interpolation(x)\n",
    "\n",
    "cubic_interpolation = interp1d(n, y_experiment, kind=\"cubic\")\n",
    "y_cubic_interpolation = cubic_interpolation(x)"
   ]
  },
  {
   "cell_type": "code",
   "execution_count": 41,
   "id": "d67cfe9f",
   "metadata": {},
   "outputs": [
    {
     "data": {
      "image/png": "[encoded data removed]",
      "text/plain": [
       "<Figure size 1000x400 with 1 Axes>"
      ]
     },
     "metadata": {},
     "output_type": "display_data"
    }
   ],
   "source": [
    "# Vergleichsplot erzeugen\n",
    "fig, ax = plt.subplots(figsize=(10,4))\n",
    "ax.plot(n, y_experiment, \"bs\", label=\"experiment data\")\n",
    "ax.plot(x, y_actual, \"k\", lw=2, label=\"actual function\")\n",
    "ax.plot(x, y_linear_interpolation, \"r\", label=\"linear interpolation\")\n",
    "ax.plot(x, y_cubic_interpolation, \"g\", label=\"cubic interpolation\")\n",
    "ax.legend(loc=3);\n",
    "plt.xlabel(\"x\")\n",
    "plt.ylabel(\"y\")\n",
    "plt.title(\"Functions Interpolation Example\")\n",
    "plt.show()"
   ]
  }
 ],
 "metadata": {
  "kernelspec": {
   "display_name": "Python 3",
   "language": "python",
   "name": "python3"
  },
  "language_info": {
   "codemirror_mode": {
    "name": "ipython",
    "version": 3
   },
   "file_extension": ".py",
   "mimetype": "text/x-python",
   "name": "python",
   "nbconvert_exporter": "python",
   "pygments_lexer": "ipython3",
   "version": "3.11.4"
  }
 },
 "nbformat": 4,
 "nbformat_minor": 5
}
