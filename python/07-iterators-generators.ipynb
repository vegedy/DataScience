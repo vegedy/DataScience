{
 "cells": [
  {
   "cell_type": "markdown",
   "id": "abbef8a2",
   "metadata": {},
   "source": [
    "# Iteratoren"
   ]
  },
  {
   "cell_type": "code",
   "execution_count": 1,
   "id": "8e96b86a",
   "metadata": {},
   "outputs": [],
   "source": [
    "# eine Liste mit der range()-Funktion generieren\n",
    "my_range = list(range(0, 20, 3))\n",
    "# den Iterator einer Liste aufrufen\n",
    "my_iter = iter(my_range)"
   ]
  },
  {
   "cell_type": "code",
   "execution_count": 2,
   "id": "f7d61518",
   "metadata": {},
   "outputs": [
    {
     "name": "stdout",
     "output_type": "stream",
     "text": [
      "0\n",
      "Zwischenschritt\n",
      "3\n"
     ]
    }
   ],
   "source": [
    "print(next(my_iter))\n",
    "print(\"Zwischenschritt\")\n",
    "print(next(my_iter))"
   ]
  },
  {
   "cell_type": "code",
   "execution_count": 3,
   "id": "9673369a",
   "metadata": {},
   "outputs": [],
   "source": [
    "#while True:\n",
    "    #next(my_iter)\n",
    "\n",
    "# StopIteration wird ausgelöst, wenn der Iterator erschöpft ist"
   ]
  },
  {
   "cell_type": "markdown",
   "id": "fc099f42",
   "metadata": {},
   "source": [
    "### Prüfen, ob ein Objekt ein Iterator ist"
   ]
  },
  {
   "cell_type": "code",
   "execution_count": 4,
   "id": "6cda003f",
   "metadata": {},
   "outputs": [
    {
     "name": "stdout",
     "output_type": "stream",
     "text": [
      "True\n",
      "False\n"
     ]
    }
   ],
   "source": [
    "print(hasattr(my_iter, \"__next__\"))\n",
    "# console output: True\n",
    "\n",
    "print(hasattr(my_range, \"__next__\"))\n",
    "# console output: False"
   ]
  },
  {
   "cell_type": "markdown",
   "id": "a29110e2",
   "metadata": {},
   "source": [
    "## Generatoren\n",
    "\n",
    "Im folgenden Beispiel definieren wir zunächst eine Funk-\n",
    "tion, in der wir auf jedes Element einer Eingabeliste 1 addieren und das Ergebnis als Liste\n",
    "zurückgeben."
   ]
  },
  {
   "cell_type": "code",
   "execution_count": 5,
   "id": "0a304040",
   "metadata": {},
   "outputs": [
    {
     "data": {
      "text/plain": [
       "[1, 4, 7, 10, 13, 16, 19]"
      ]
     },
     "execution_count": 5,
     "metadata": {},
     "output_type": "execute_result"
    }
   ],
   "source": [
    "# eine Funktion definieren, die auf jedes Element einer Eingabeliste 1 addiert\n",
    "def add_one(in_list):\n",
    "    # eine leere Liste erzeugen\n",
    "    out_list = []\n",
    "    # über jedes Element in my_range iterieren\n",
    "    for i in in_list:\n",
    "        # auf das aktuelle Element 1 addieren\n",
    "        i_plus_one = i + 1\n",
    "        # das Ergebnis an die Ausgabeliste anhängen\n",
    "        out_list.append(i_plus_one)\n",
    "    # das Ergebnis ausgeben\n",
    "    return out_list\n",
    "\n",
    "# Funktion ausführen\n",
    "add_one(my_range)"
   ]
  },
  {
   "cell_type": "markdown",
   "id": "55fc0d7d",
   "metadata": {},
   "source": [
    "Erzeugen wir nun die gleiche Funktion mithilfe eines Generators. Wie wir sehen, verein-\n",
    "facht sich der Code erheblich. Wir benötigen weder eine leere Ausgabeliste, die wir inner-\n",
    "halb der for-Schleife befüllen, noch benötigen wir das return-Statement. Wir verwenden\n",
    "stattdessen ein yield-Statement, um Teilergebnisses in jedem Iterator einem Generator\n",
    "zu übergeben."
   ]
  },
  {
   "cell_type": "code",
   "execution_count": 6,
   "id": "330678f7",
   "metadata": {},
   "outputs": [
    {
     "data": {
      "text/plain": [
       "<generator object add_one_gen at 0x000002C110447780>"
      ]
     },
     "execution_count": 6,
     "metadata": {},
     "output_type": "execute_result"
    }
   ],
   "source": [
    "# eine Funktion definieren, die auf jedes Element einer Eingabeliste 1 addiert\n",
    "def add_one_gen(in_list):\n",
    "    # über jedes Element in my_range iterieren\n",
    "    for i in in_list:\n",
    "        # auf das aktuelle Element 1 addieren und dem Generator übergeben\n",
    "        yield i + 1\n",
    "\n",
    "# Funktion ausführen\n",
    "add_one_gen(my_range)"
   ]
  },
  {
   "cell_type": "code",
   "execution_count": 7,
   "id": "8ca3ffac",
   "metadata": {},
   "outputs": [
    {
     "name": "stdout",
     "output_type": "stream",
     "text": [
      "1\n",
      "4\n",
      "7\n",
      "[10, 13, 16, 19]\n"
     ]
    }
   ],
   "source": [
    "# über Generator iterieren\n",
    "my_gen = add_one_gen(my_range)\n",
    "print(next(my_gen))\n",
    "print(next(my_gen))\n",
    "print(next(my_gen))\n",
    "\n",
    "print(list(my_gen))"
   ]
  },
  {
   "cell_type": "markdown",
   "id": "7876f58a",
   "metadata": {},
   "source": [
    "Es geht noch ein wenig schlanker, indem wir Generatoren in Kombination mit der soge-\n",
    "nannten „list comprehension“ verwenden. Dabei handelt es sich um eine vereinfachte\n",
    "Syntax, um einfache Schleifen verschlankt zu implementieren. Unsere Funktion zur Addi-\n",
    "tion von 1 auf jedes Element einer Liste können wir mit dieser Syntax wie folgt schreiben."
   ]
  },
  {
   "cell_type": "code",
   "execution_count": 8,
   "id": "a441f812",
   "metadata": {},
   "outputs": [
    {
     "name": "stdout",
     "output_type": "stream",
     "text": [
      "<generator object <genexpr> at 0x000002C1104475E0>\n",
      "[1, 4, 7, 10, 13, 16, 19]\n"
     ]
    }
   ],
   "source": [
    "# Generator mit List-Comprehension verwenden\n",
    "my_gen = (i+1 for i in my_range)\n",
    "# Generator anzeigen\n",
    "print(my_gen)\n",
    "# Generator in Liste konvertieren und anzeigen\n",
    "print(list(my_gen))"
   ]
  },
  {
   "cell_type": "markdown",
   "id": "3a2d6441",
   "metadata": {},
   "source": [
    "Im Gegensatz zu Listen, werden die Daten nicht als Ganzes\n",
    "in einen Generator geladen, sondern immer nur das aktuelle Element. Je nach Anwendungsfall kann das zu einer deutlich\n",
    "beschleunigten Programmlaufzeit führen."
   ]
  },
  {
   "cell_type": "markdown",
   "id": "91496b60",
   "metadata": {},
   "source": [
    "## Itertools\n",
    "Python verfügt über ein itertools-Modul, das eingebaute effiziente Iterator-Funktionen\n",
    "für besonders schnelle Schleifendurchläufe bietet."
   ]
  },
  {
   "cell_type": "code",
   "execution_count": 9,
   "id": "41ed6c3c",
   "metadata": {},
   "outputs": [
    {
     "name": "stdout",
     "output_type": "stream",
     "text": [
      "42\n",
      "45\n",
      "48\n",
      "51\n",
      "54\n"
     ]
    }
   ],
   "source": [
    "import itertools\n",
    "\n",
    "my_iter = itertools.count(start=42, step=3)\n",
    "\n",
    "print(next(my_iter))\n",
    "print(next(my_iter))\n",
    "print(next(my_iter))\n",
    "print(next(my_iter))\n",
    "print(next(my_iter))"
   ]
  },
  {
   "cell_type": "code",
   "execution_count": 10,
   "id": "8f867ee5",
   "metadata": {},
   "outputs": [
    {
     "name": "stdout",
     "output_type": "stream",
     "text": [
      "Brian\n",
      "Prian\n",
      "Brian\n",
      "Prian\n",
      "Brian\n"
     ]
    }
   ],
   "source": [
    "my_iter = itertools.cycle([\"Brian\", \"Prian\"])\n",
    "\n",
    "print(next(my_iter))\n",
    "print(next(my_iter))\n",
    "print(next(my_iter))\n",
    "print(next(my_iter))\n",
    "print(next(my_iter))"
   ]
  },
  {
   "cell_type": "code",
   "execution_count": 11,
   "id": "53482b01",
   "metadata": {},
   "outputs": [
    {
     "name": "stdout",
     "output_type": "stream",
     "text": [
      "Romani ite domum\n",
      "Romani ite domum\n",
      "Romani ite domum\n",
      "Romani ite domum\n",
      "Romani ite domum\n"
     ]
    }
   ],
   "source": [
    "my_iter = itertools.repeat(\"Romani ite domum\", times=5)\n",
    "\n",
    "print(next(my_iter))\n",
    "print(next(my_iter))\n",
    "print(next(my_iter))\n",
    "print(next(my_iter))\n",
    "print(next(my_iter))"
   ]
  }
 ],
 "metadata": {
  "kernelspec": {
   "display_name": "Python 3",
   "language": "python",
   "name": "python3"
  },
  "language_info": {
   "codemirror_mode": {
    "name": "ipython",
    "version": 3
   },
   "file_extension": ".py",
   "mimetype": "text/x-python",
   "name": "python",
   "nbconvert_exporter": "python",
   "pygments_lexer": "ipython3",
   "version": "3.11.4"
  }
 },
 "nbformat": 4,
 "nbformat_minor": 5
}
